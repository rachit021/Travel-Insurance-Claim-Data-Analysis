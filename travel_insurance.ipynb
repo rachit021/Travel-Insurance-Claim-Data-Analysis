{
 "cells": [
  {
   "cell_type": "code",
   "execution_count": 4,
   "metadata": {
    "scrolled": true
   },
   "outputs": [],
   "source": [
    "import numpy as np\n",
    "import pandas as pd\n",
    "import missingno\n",
    "import matplotlib.pyplot as plt\n",
    "import seaborn as sns\n",
    "from sklearn.ensemble import RandomForestClassifier\n",
    "from sklearn.linear_model import LogisticRegression\n",
    "from sklearn.tree import DecisionTreeClassifier\n",
    "from sklearn.metrics import recall_score\n",
    "from sklearn.model_selection import train_test_split\n",
    "from sklearn.feature_selection import RFE\n",
    "import sklearn.metrics as metrics\n",
    "import scipy.stats as ss"
   ]
  },
  {
   "cell_type": "code",
   "execution_count": 5,
   "metadata": {},
   "outputs": [],
   "source": [
    "import csv\n",
    "import os"
   ]
  },
  {
   "cell_type": "code",
   "execution_count": 6,
   "metadata": {},
   "outputs": [
    {
     "data": {
      "text/html": [
       "<div>\n",
       "<style scoped>\n",
       "    .dataframe tbody tr th:only-of-type {\n",
       "        vertical-align: middle;\n",
       "    }\n",
       "\n",
       "    .dataframe tbody tr th {\n",
       "        vertical-align: top;\n",
       "    }\n",
       "\n",
       "    .dataframe thead th {\n",
       "        text-align: right;\n",
       "    }\n",
       "</style>\n",
       "<table border=\"1\" class=\"dataframe\">\n",
       "  <thead>\n",
       "    <tr style=\"text-align: right;\">\n",
       "      <th></th>\n",
       "      <th>Agency</th>\n",
       "      <th>Agency Type</th>\n",
       "      <th>Distribution Channel</th>\n",
       "      <th>Product Name</th>\n",
       "      <th>Claim</th>\n",
       "      <th>Duration</th>\n",
       "      <th>Destination</th>\n",
       "      <th>Net Sales</th>\n",
       "      <th>Commision (in value)</th>\n",
       "      <th>Gender</th>\n",
       "      <th>Age</th>\n",
       "    </tr>\n",
       "  </thead>\n",
       "  <tbody>\n",
       "    <tr>\n",
       "      <td>0</td>\n",
       "      <td>CBH</td>\n",
       "      <td>Travel Agency</td>\n",
       "      <td>Offline</td>\n",
       "      <td>Comprehensive Plan</td>\n",
       "      <td>No</td>\n",
       "      <td>186</td>\n",
       "      <td>MALAYSIA</td>\n",
       "      <td>-29.0</td>\n",
       "      <td>9.57</td>\n",
       "      <td>F</td>\n",
       "      <td>81</td>\n",
       "    </tr>\n",
       "    <tr>\n",
       "      <td>1</td>\n",
       "      <td>CBH</td>\n",
       "      <td>Travel Agency</td>\n",
       "      <td>Offline</td>\n",
       "      <td>Comprehensive Plan</td>\n",
       "      <td>No</td>\n",
       "      <td>186</td>\n",
       "      <td>MALAYSIA</td>\n",
       "      <td>-29.0</td>\n",
       "      <td>9.57</td>\n",
       "      <td>F</td>\n",
       "      <td>71</td>\n",
       "    </tr>\n",
       "    <tr>\n",
       "      <td>2</td>\n",
       "      <td>CWT</td>\n",
       "      <td>Travel Agency</td>\n",
       "      <td>Online</td>\n",
       "      <td>Rental Vehicle Excess Insurance</td>\n",
       "      <td>No</td>\n",
       "      <td>65</td>\n",
       "      <td>AUSTRALIA</td>\n",
       "      <td>-49.5</td>\n",
       "      <td>29.70</td>\n",
       "      <td>NaN</td>\n",
       "      <td>32</td>\n",
       "    </tr>\n",
       "    <tr>\n",
       "      <td>3</td>\n",
       "      <td>CWT</td>\n",
       "      <td>Travel Agency</td>\n",
       "      <td>Online</td>\n",
       "      <td>Rental Vehicle Excess Insurance</td>\n",
       "      <td>No</td>\n",
       "      <td>60</td>\n",
       "      <td>AUSTRALIA</td>\n",
       "      <td>-39.6</td>\n",
       "      <td>23.76</td>\n",
       "      <td>NaN</td>\n",
       "      <td>32</td>\n",
       "    </tr>\n",
       "    <tr>\n",
       "      <td>4</td>\n",
       "      <td>CWT</td>\n",
       "      <td>Travel Agency</td>\n",
       "      <td>Online</td>\n",
       "      <td>Rental Vehicle Excess Insurance</td>\n",
       "      <td>No</td>\n",
       "      <td>79</td>\n",
       "      <td>ITALY</td>\n",
       "      <td>-19.8</td>\n",
       "      <td>11.88</td>\n",
       "      <td>NaN</td>\n",
       "      <td>41</td>\n",
       "    </tr>\n",
       "  </tbody>\n",
       "</table>\n",
       "</div>"
      ],
      "text/plain": [
       "  Agency    Agency Type Distribution Channel                     Product Name  \\\n",
       "0    CBH  Travel Agency              Offline               Comprehensive Plan   \n",
       "1    CBH  Travel Agency              Offline               Comprehensive Plan   \n",
       "2    CWT  Travel Agency               Online  Rental Vehicle Excess Insurance   \n",
       "3    CWT  Travel Agency               Online  Rental Vehicle Excess Insurance   \n",
       "4    CWT  Travel Agency               Online  Rental Vehicle Excess Insurance   \n",
       "\n",
       "  Claim  Duration Destination  Net Sales  Commision (in value) Gender  Age  \n",
       "0    No       186    MALAYSIA      -29.0                  9.57      F   81  \n",
       "1    No       186    MALAYSIA      -29.0                  9.57      F   71  \n",
       "2    No        65   AUSTRALIA      -49.5                 29.70    NaN   32  \n",
       "3    No        60   AUSTRALIA      -39.6                 23.76    NaN   32  \n",
       "4    No        79       ITALY      -19.8                 11.88    NaN   41  "
      ]
     },
     "execution_count": 6,
     "metadata": {},
     "output_type": "execute_result"
    }
   ],
   "source": [
    "df=pd.read_csv(\"J:\\paypal\\insurance.csv\")\n",
    "df.head(5)"
   ]
  },
  {
   "cell_type": "code",
   "execution_count": 7,
   "metadata": {},
   "outputs": [
    {
     "name": "stdout",
     "output_type": "stream",
     "text": [
      "<class 'pandas.core.frame.DataFrame'>\n",
      "RangeIndex: 63326 entries, 0 to 63325\n",
      "Data columns (total 11 columns):\n",
      "Agency                  63326 non-null object\n",
      "Agency Type             63326 non-null object\n",
      "Distribution Channel    63326 non-null object\n",
      "Product Name            63326 non-null object\n",
      "Claim                   63326 non-null object\n",
      "Duration                63326 non-null int64\n",
      "Destination             63326 non-null object\n",
      "Net Sales               63326 non-null float64\n",
      "Commision (in value)    63326 non-null float64\n",
      "Gender                  18219 non-null object\n",
      "Age                     63326 non-null int64\n",
      "dtypes: float64(2), int64(2), object(7)\n",
      "memory usage: 5.3+ MB\n"
     ]
    }
   ],
   "source": [
    "df.info()"
   ]
  },
  {
   "cell_type": "markdown",
   "metadata": {},
   "source": [
    "So, there are 4 numerical columns and 7 categorical columns"
   ]
  },
  {
   "cell_type": "markdown",
   "metadata": {},
   "source": [
    "Now, lets check which columns have the null values"
   ]
  },
  {
   "cell_type": "code",
   "execution_count": 130,
   "metadata": {},
   "outputs": [
    {
     "data": {
      "text/plain": [
       "<matplotlib.axes._subplots.AxesSubplot at 0x1e86854a5c8>"
      ]
     },
     "execution_count": 130,
     "metadata": {},
     "output_type": "execute_result"
    },
    {
     "data": {
      "image/png": "[encoded data removed]",
      "text/plain": [
       "<Figure size 1800x720 with 2 Axes>"
      ]
     },
     "metadata": {},
     "output_type": "display_data"
    }
   ],
   "source": [
    "missingno.matrix(df)"
   ]
  },
  {
   "cell_type": "markdown",
   "metadata": {},
   "source": [
    "\"Black\" in the data depicts the column is fill with data and \"White\" depicts they have null values in that particular area\n",
    "\n",
    "So, we can conclude that only \"Gender\" have the null values and it has high number of null values"
   ]
  },
  {
   "cell_type": "markdown",
   "metadata": {},
   "source": [
    "Lets see whats the number of null values in the \"Gender\" column"
   ]
  },
  {
   "cell_type": "code",
   "execution_count": 8,
   "metadata": {},
   "outputs": [
    {
     "data": {
      "text/plain": [
       "45107"
      ]
     },
     "execution_count": 8,
     "metadata": {},
     "output_type": "execute_result"
    }
   ],
   "source": [
    "df['Gender'].isnull().sum()"
   ]
  },
  {
   "cell_type": "markdown",
   "metadata": {},
   "source": [
    "45107/63326 are null values, nearly 72% data in the column are null values.\n",
    "Delete the null values with another category called \"Unknown\""
   ]
  },
  {
   "cell_type": "code",
   "execution_count": 9,
   "metadata": {},
   "outputs": [],
   "source": [
    "df.fillna('Unknown',inplace=True)"
   ]
  },
  {
   "cell_type": "code",
   "execution_count": 10,
   "metadata": {},
   "outputs": [
    {
     "data": {
      "text/plain": [
       "Agency                  0\n",
       "Agency Type             0\n",
       "Distribution Channel    0\n",
       "Product Name            0\n",
       "Claim                   0\n",
       "Duration                0\n",
       "Destination             0\n",
       "Net Sales               0\n",
       "Commision (in value)    0\n",
       "Gender                  0\n",
       "Age                     0\n",
       "dtype: int64"
      ]
     },
     "execution_count": 10,
     "metadata": {},
     "output_type": "execute_result"
    }
   ],
   "source": [
    "df.isnull().sum()"
   ]
  },
  {
   "cell_type": "markdown",
   "metadata": {},
   "source": [
    "There is no null values now\n",
    "\n",
    "First make an another dataframe which consist of only numerical columns from df"
   ]
  },
  {
   "cell_type": "code",
   "execution_count": 11,
   "metadata": {},
   "outputs": [
    {
     "name": "stdout",
     "output_type": "stream",
     "text": [
      "<class 'pandas.core.frame.DataFrame'>\n",
      "RangeIndex: 63326 entries, 0 to 63325\n",
      "Data columns (total 4 columns):\n",
      "Duration                63326 non-null int64\n",
      "Net Sales               63326 non-null float64\n",
      "Commision (in value)    63326 non-null float64\n",
      "Age                     63326 non-null int64\n",
      "dtypes: float64(2), int64(2)\n",
      "memory usage: 1.9 MB\n"
     ]
    }
   ],
   "source": [
    "df_numerical=df._get_numeric_data()\n",
    "df_numerical.info()"
   ]
  },
  {
   "cell_type": "markdown",
   "metadata": {},
   "source": [
    "Now lets look at the spread of the numerical data"
   ]
  },
  {
   "cell_type": "code",
   "execution_count": 10,
   "metadata": {
    "scrolled": true
   },
   "outputs": [
    {
     "name": "stderr",
     "output_type": "stream",
     "text": [
      "C:\\Users\\hp\\Anaconda3\\lib\\site-packages\\seaborn\\distributions.py:218: MatplotlibDeprecationWarning: \n",
      "The 'normed' kwarg was deprecated in Matplotlib 2.1 and will be removed in 3.1. Use 'density' instead.\n",
      "  color=hist_color, **hist_kws)\n"
     ]
    },
    {
     "data": {
      "image/png": "[encoded data removed]",
      "text/plain": [
       "<Figure size 432x288 with 1 Axes>"
      ]
     },
     "metadata": {
      "needs_background": "light"
     },
     "output_type": "display_data"
    },
    {
     "data": {
      "image/png": "[encoded data removed]",
      "text/plain": [
       "<Figure size 432x288 with 1 Axes>"
      ]
     },
     "metadata": {
      "needs_background": "light"
     },
     "output_type": "display_data"
    },
    {
     "data": {
      "image/png": "[encoded data removed]",
      "text/plain": [
       "<Figure size 432x288 with 1 Axes>"
      ]
     },
     "metadata": {
      "needs_background": "light"
     },
     "output_type": "display_data"
    },
    {
     "data": {
      "image/png": "[encoded data removed]",
      "text/plain": [
       "<Figure size 432x288 with 1 Axes>"
      ]
     },
     "metadata": {
      "needs_background": "light"
     },
     "output_type": "display_data"
    }
   ],
   "source": [
    "for i, col in enumerate(df_numerical.columns):\n",
    "    plt.figure(i)\n",
    "    sns.distplot(df_numerical[col])"
   ]
  },
  {
   "cell_type": "markdown",
   "metadata": {},
   "source": [
    "From the graph we can conclude:\n",
    "\n",
    "Duration: Data in this column is highly right skewed.\n",
    "\n",
    "Net Sales and Commison: These both column seems to related but the graph plot shows disparency as low net sales shows high commison which is not pratically possible.\n",
    "\n",
    "Age: Age is random so its distribution can be random."
   ]
  },
  {
   "cell_type": "markdown",
   "metadata": {},
   "source": [
    "Lets check the data in \"Duration\" column"
   ]
  },
  {
   "cell_type": "code",
   "execution_count": 12,
   "metadata": {},
   "outputs": [
    {
     "data": {
      "text/plain": [
       "count    63326.000000\n",
       "mean        49.317074\n",
       "std        101.791566\n",
       "min         -2.000000\n",
       "25%          9.000000\n",
       "50%         22.000000\n",
       "75%         53.000000\n",
       "max       4881.000000\n",
       "Name: Duration, dtype: float64"
      ]
     },
     "execution_count": 12,
     "metadata": {},
     "output_type": "execute_result"
    }
   ],
   "source": [
    "df['Duration'].describe()"
   ]
  },
  {
   "cell_type": "markdown",
   "metadata": {},
   "source": [
    "We have negative values in this Duration column but can time be negative? NO"
   ]
  },
  {
   "cell_type": "markdown",
   "metadata": {},
   "source": [
    "Lets see how many negative values we have in Duration column"
   ]
  },
  {
   "cell_type": "code",
   "execution_count": 13,
   "metadata": {},
   "outputs": [
    {
     "data": {
      "text/plain": [
       "5"
      ]
     },
     "execution_count": 13,
     "metadata": {},
     "output_type": "execute_result"
    }
   ],
   "source": [
    "df11=df['Duration']<0\n",
    "df11.sum()"
   ]
  },
  {
   "cell_type": "markdown",
   "metadata": {},
   "source": [
    "So, there are 5 negative values in Duration column. I am gonna replace those with the mean value"
   ]
  },
  {
   "cell_type": "code",
   "execution_count": 14,
   "metadata": {},
   "outputs": [],
   "source": [
    "df.loc[df['Duration'] < 0, 'Duration'] = 49.317"
   ]
  },
  {
   "cell_type": "markdown",
   "metadata": {},
   "source": [
    "We have also checked that some columns have low Net Sales but High Commission but that is not possible\n",
    "\n",
    "Let us see how many such columns we have in our dataset"
   ]
  },
  {
   "cell_type": "code",
   "execution_count": 15,
   "metadata": {},
   "outputs": [
    {
     "data": {
      "text/plain": [
       "2014"
      ]
     },
     "execution_count": 15,
     "metadata": {},
     "output_type": "execute_result"
    }
   ],
   "source": [
    "df12 = df['Net Sales']<df['Commision (in value)']\n",
    "df12.sum()"
   ]
  },
  {
   "cell_type": "markdown",
   "metadata": {},
   "source": [
    "We gonna make all comission value 0 where net sales is 0."
   ]
  },
  {
   "cell_type": "code",
   "execution_count": 16,
   "metadata": {},
   "outputs": [],
   "source": [
    "df.loc[df['Net Sales'] == 0.0, 'Commision (in value)'] = 0"
   ]
  },
  {
   "cell_type": "code",
   "execution_count": 17,
   "metadata": {},
   "outputs": [
    {
     "name": "stdout",
     "output_type": "stream",
     "text": [
      "<class 'pandas.core.frame.DataFrame'>\n",
      "Int64Index: 984 entries, 10 to 63183\n",
      "Data columns (total 11 columns):\n",
      "Agency                  984 non-null object\n",
      "Agency Type             984 non-null object\n",
      "Distribution Channel    984 non-null object\n",
      "Product Name            984 non-null object\n",
      "Claim                   984 non-null object\n",
      "Duration                984 non-null float64\n",
      "Destination             984 non-null object\n",
      "Net Sales               984 non-null float64\n",
      "Commision (in value)    984 non-null float64\n",
      "Gender                  984 non-null object\n",
      "Age                     984 non-null int64\n",
      "dtypes: float64(3), int64(1), object(7)\n",
      "memory usage: 92.2+ KB\n"
     ]
    }
   ],
   "source": [
    "df[df[\"Age\"] > 100].info()"
   ]
  },
  {
   "cell_type": "code",
   "execution_count": 18,
   "metadata": {},
   "outputs": [],
   "source": [
    "df.loc[df['Age'] > 100, 'Age'] = 40"
   ]
  },
  {
   "cell_type": "code",
   "execution_count": 19,
   "metadata": {
    "scrolled": true
   },
   "outputs": [
    {
     "data": {
      "text/html": [
       "<div>\n",
       "<style scoped>\n",
       "    .dataframe tbody tr th:only-of-type {\n",
       "        vertical-align: middle;\n",
       "    }\n",
       "\n",
       "    .dataframe tbody tr th {\n",
       "        vertical-align: top;\n",
       "    }\n",
       "\n",
       "    .dataframe thead th {\n",
       "        text-align: right;\n",
       "    }\n",
       "</style>\n",
       "<table border=\"1\" class=\"dataframe\">\n",
       "  <thead>\n",
       "    <tr style=\"text-align: right;\">\n",
       "      <th></th>\n",
       "      <th>Duration</th>\n",
       "      <th>Net Sales</th>\n",
       "      <th>Commision (in value)</th>\n",
       "      <th>Age</th>\n",
       "    </tr>\n",
       "  </thead>\n",
       "  <tbody>\n",
       "    <tr>\n",
       "      <td>count</td>\n",
       "      <td>63326.000000</td>\n",
       "      <td>63326.000000</td>\n",
       "      <td>63326.000000</td>\n",
       "      <td>63326.000000</td>\n",
       "    </tr>\n",
       "    <tr>\n",
       "      <td>mean</td>\n",
       "      <td>49.321062</td>\n",
       "      <td>40.702018</td>\n",
       "      <td>9.225666</td>\n",
       "      <td>38.757967</td>\n",
       "    </tr>\n",
       "    <tr>\n",
       "      <td>std</td>\n",
       "      <td>101.790576</td>\n",
       "      <td>48.845637</td>\n",
       "      <td>19.389786</td>\n",
       "      <td>10.019790</td>\n",
       "    </tr>\n",
       "    <tr>\n",
       "      <td>min</td>\n",
       "      <td>0.000000</td>\n",
       "      <td>-389.000000</td>\n",
       "      <td>0.000000</td>\n",
       "      <td>0.000000</td>\n",
       "    </tr>\n",
       "    <tr>\n",
       "      <td>25%</td>\n",
       "      <td>9.000000</td>\n",
       "      <td>18.000000</td>\n",
       "      <td>0.000000</td>\n",
       "      <td>35.000000</td>\n",
       "    </tr>\n",
       "    <tr>\n",
       "      <td>50%</td>\n",
       "      <td>22.000000</td>\n",
       "      <td>26.530000</td>\n",
       "      <td>0.000000</td>\n",
       "      <td>36.000000</td>\n",
       "    </tr>\n",
       "    <tr>\n",
       "      <td>75%</td>\n",
       "      <td>53.000000</td>\n",
       "      <td>48.000000</td>\n",
       "      <td>10.500000</td>\n",
       "      <td>42.000000</td>\n",
       "    </tr>\n",
       "    <tr>\n",
       "      <td>max</td>\n",
       "      <td>4881.000000</td>\n",
       "      <td>810.000000</td>\n",
       "      <td>283.500000</td>\n",
       "      <td>88.000000</td>\n",
       "    </tr>\n",
       "  </tbody>\n",
       "</table>\n",
       "</div>"
      ],
      "text/plain": [
       "           Duration     Net Sales  Commision (in value)           Age\n",
       "count  63326.000000  63326.000000          63326.000000  63326.000000\n",
       "mean      49.321062     40.702018              9.225666     38.757967\n",
       "std      101.790576     48.845637             19.389786     10.019790\n",
       "min        0.000000   -389.000000              0.000000      0.000000\n",
       "25%        9.000000     18.000000              0.000000     35.000000\n",
       "50%       22.000000     26.530000              0.000000     36.000000\n",
       "75%       53.000000     48.000000             10.500000     42.000000\n",
       "max     4881.000000    810.000000            283.500000     88.000000"
      ]
     },
     "execution_count": 19,
     "metadata": {},
     "output_type": "execute_result"
    }
   ],
   "source": [
    "df.describe()"
   ]
  },
  {
   "cell_type": "code",
   "execution_count": 20,
   "metadata": {},
   "outputs": [
    {
     "data": {
      "text/html": [
       "<div>\n",
       "<style scoped>\n",
       "    .dataframe tbody tr th:only-of-type {\n",
       "        vertical-align: middle;\n",
       "    }\n",
       "\n",
       "    .dataframe tbody tr th {\n",
       "        vertical-align: top;\n",
       "    }\n",
       "\n",
       "    .dataframe thead th {\n",
       "        text-align: right;\n",
       "    }\n",
       "</style>\n",
       "<table border=\"1\" class=\"dataframe\">\n",
       "  <thead>\n",
       "    <tr style=\"text-align: right;\">\n",
       "      <th></th>\n",
       "      <th>Agency</th>\n",
       "      <th>Agency Type</th>\n",
       "      <th>Distribution Channel</th>\n",
       "      <th>Product Name</th>\n",
       "      <th>Claim</th>\n",
       "      <th>Duration</th>\n",
       "      <th>Destination</th>\n",
       "      <th>Net Sales</th>\n",
       "      <th>Commision (in value)</th>\n",
       "      <th>Gender</th>\n",
       "      <th>Age</th>\n",
       "    </tr>\n",
       "  </thead>\n",
       "  <tbody>\n",
       "    <tr>\n",
       "      <td>0</td>\n",
       "      <td>CBH</td>\n",
       "      <td>Travel Agency</td>\n",
       "      <td>Offline</td>\n",
       "      <td>Comprehensive Plan</td>\n",
       "      <td>No</td>\n",
       "      <td>186.0</td>\n",
       "      <td>MALAYSIA</td>\n",
       "      <td>-29.0</td>\n",
       "      <td>9.57</td>\n",
       "      <td>F</td>\n",
       "      <td>81</td>\n",
       "    </tr>\n",
       "    <tr>\n",
       "      <td>1</td>\n",
       "      <td>CBH</td>\n",
       "      <td>Travel Agency</td>\n",
       "      <td>Offline</td>\n",
       "      <td>Comprehensive Plan</td>\n",
       "      <td>No</td>\n",
       "      <td>186.0</td>\n",
       "      <td>MALAYSIA</td>\n",
       "      <td>-29.0</td>\n",
       "      <td>9.57</td>\n",
       "      <td>F</td>\n",
       "      <td>71</td>\n",
       "    </tr>\n",
       "    <tr>\n",
       "      <td>2</td>\n",
       "      <td>CWT</td>\n",
       "      <td>Travel Agency</td>\n",
       "      <td>Online</td>\n",
       "      <td>Rental Vehicle Excess Insurance</td>\n",
       "      <td>No</td>\n",
       "      <td>65.0</td>\n",
       "      <td>AUSTRALIA</td>\n",
       "      <td>-49.5</td>\n",
       "      <td>29.70</td>\n",
       "      <td>Unknown</td>\n",
       "      <td>32</td>\n",
       "    </tr>\n",
       "    <tr>\n",
       "      <td>3</td>\n",
       "      <td>CWT</td>\n",
       "      <td>Travel Agency</td>\n",
       "      <td>Online</td>\n",
       "      <td>Rental Vehicle Excess Insurance</td>\n",
       "      <td>No</td>\n",
       "      <td>60.0</td>\n",
       "      <td>AUSTRALIA</td>\n",
       "      <td>-39.6</td>\n",
       "      <td>23.76</td>\n",
       "      <td>Unknown</td>\n",
       "      <td>32</td>\n",
       "    </tr>\n",
       "    <tr>\n",
       "      <td>4</td>\n",
       "      <td>CWT</td>\n",
       "      <td>Travel Agency</td>\n",
       "      <td>Online</td>\n",
       "      <td>Rental Vehicle Excess Insurance</td>\n",
       "      <td>No</td>\n",
       "      <td>79.0</td>\n",
       "      <td>ITALY</td>\n",
       "      <td>-19.8</td>\n",
       "      <td>11.88</td>\n",
       "      <td>Unknown</td>\n",
       "      <td>41</td>\n",
       "    </tr>\n",
       "  </tbody>\n",
       "</table>\n",
       "</div>"
      ],
      "text/plain": [
       "  Agency    Agency Type Distribution Channel                     Product Name  \\\n",
       "0    CBH  Travel Agency              Offline               Comprehensive Plan   \n",
       "1    CBH  Travel Agency              Offline               Comprehensive Plan   \n",
       "2    CWT  Travel Agency               Online  Rental Vehicle Excess Insurance   \n",
       "3    CWT  Travel Agency               Online  Rental Vehicle Excess Insurance   \n",
       "4    CWT  Travel Agency               Online  Rental Vehicle Excess Insurance   \n",
       "\n",
       "  Claim  Duration Destination  Net Sales  Commision (in value)   Gender  Age  \n",
       "0    No     186.0    MALAYSIA      -29.0                  9.57        F   81  \n",
       "1    No     186.0    MALAYSIA      -29.0                  9.57        F   71  \n",
       "2    No      65.0   AUSTRALIA      -49.5                 29.70  Unknown   32  \n",
       "3    No      60.0   AUSTRALIA      -39.6                 23.76  Unknown   32  \n",
       "4    No      79.0       ITALY      -19.8                 11.88  Unknown   41  "
      ]
     },
     "execution_count": 20,
     "metadata": {},
     "output_type": "execute_result"
    }
   ],
   "source": [
    "df.head()"
   ]
  },
  {
   "cell_type": "code",
   "execution_count": 21,
   "metadata": {},
   "outputs": [
    {
     "data": {
      "text/plain": [
       "array(['No', 'Yes'], dtype=object)"
      ]
     },
     "execution_count": 21,
     "metadata": {},
     "output_type": "execute_result"
    }
   ],
   "source": [
    "df['Claim'].unique()"
   ]
  },
  {
   "cell_type": "code",
   "execution_count": 22,
   "metadata": {},
   "outputs": [],
   "source": [
    "def claims(c):\n",
    "    if c == \"Yes\":\n",
    "        return 1\n",
    "    elif c == \"No\":\n",
    "        return 0\n",
    "\n",
    "df[\"Claim\"] = df.loc[:,'Claim'].apply(claims)"
   ]
  },
  {
   "cell_type": "markdown",
   "metadata": {},
   "source": [
    "We will check how the data is spread according to the below conditions"
   ]
  },
  {
   "cell_type": "code",
   "execution_count": 158,
   "metadata": {},
   "outputs": [
    {
     "data": {
      "text/html": [
       "<div>\n",
       "<style scoped>\n",
       "    .dataframe tbody tr th:only-of-type {\n",
       "        vertical-align: middle;\n",
       "    }\n",
       "\n",
       "    .dataframe tbody tr th {\n",
       "        vertical-align: top;\n",
       "    }\n",
       "\n",
       "    .dataframe thead th {\n",
       "        text-align: right;\n",
       "    }\n",
       "</style>\n",
       "<table border=\"1\" class=\"dataframe\">\n",
       "  <thead>\n",
       "    <tr style=\"text-align: right;\">\n",
       "      <th></th>\n",
       "      <th>Claim</th>\n",
       "      <th>Duration</th>\n",
       "      <th>Net Sales</th>\n",
       "      <th>Commision (in value)</th>\n",
       "      <th>Age</th>\n",
       "    </tr>\n",
       "    <tr>\n",
       "      <th>Agency</th>\n",
       "      <th></th>\n",
       "      <th></th>\n",
       "      <th></th>\n",
       "      <th></th>\n",
       "      <th></th>\n",
       "    </tr>\n",
       "  </thead>\n",
       "  <tbody>\n",
       "    <tr>\n",
       "      <td>ADM</td>\n",
       "      <td>0.000000</td>\n",
       "      <td>54.914634</td>\n",
       "      <td>53.256098</td>\n",
       "      <td>31.155366</td>\n",
       "      <td>22.853659</td>\n",
       "    </tr>\n",
       "    <tr>\n",
       "      <td>ART</td>\n",
       "      <td>0.003021</td>\n",
       "      <td>30.359517</td>\n",
       "      <td>28.691601</td>\n",
       "      <td>10.261752</td>\n",
       "      <td>46.410876</td>\n",
       "    </tr>\n",
       "    <tr>\n",
       "      <td>C2B</td>\n",
       "      <td>0.066167</td>\n",
       "      <td>95.219910</td>\n",
       "      <td>78.865811</td>\n",
       "      <td>20.094789</td>\n",
       "      <td>37.749244</td>\n",
       "    </tr>\n",
       "    <tr>\n",
       "      <td>CBH</td>\n",
       "      <td>0.009901</td>\n",
       "      <td>91.950495</td>\n",
       "      <td>27.168317</td>\n",
       "      <td>9.344554</td>\n",
       "      <td>57.128713</td>\n",
       "    </tr>\n",
       "    <tr>\n",
       "      <td>CCR</td>\n",
       "      <td>0.015464</td>\n",
       "      <td>62.809278</td>\n",
       "      <td>30.654639</td>\n",
       "      <td>10.116031</td>\n",
       "      <td>48.675258</td>\n",
       "    </tr>\n",
       "    <tr>\n",
       "      <td>CSR</td>\n",
       "      <td>0.011628</td>\n",
       "      <td>79.895349</td>\n",
       "      <td>32.802326</td>\n",
       "      <td>10.824767</td>\n",
       "      <td>57.511628</td>\n",
       "    </tr>\n",
       "    <tr>\n",
       "      <td>CWT</td>\n",
       "      <td>0.010023</td>\n",
       "      <td>41.450350</td>\n",
       "      <td>43.040769</td>\n",
       "      <td>28.928769</td>\n",
       "      <td>40.273660</td>\n",
       "    </tr>\n",
       "    <tr>\n",
       "      <td>EPX</td>\n",
       "      <td>0.005553</td>\n",
       "      <td>39.158860</td>\n",
       "      <td>32.564993</td>\n",
       "      <td>0.000000</td>\n",
       "      <td>36.844899</td>\n",
       "    </tr>\n",
       "    <tr>\n",
       "      <td>JWT</td>\n",
       "      <td>0.005340</td>\n",
       "      <td>29.371162</td>\n",
       "      <td>53.012016</td>\n",
       "      <td>21.553004</td>\n",
       "      <td>40.000000</td>\n",
       "    </tr>\n",
       "    <tr>\n",
       "      <td>JZI</td>\n",
       "      <td>0.004898</td>\n",
       "      <td>34.196332</td>\n",
       "      <td>32.338442</td>\n",
       "      <td>11.481371</td>\n",
       "      <td>43.765524</td>\n",
       "    </tr>\n",
       "    <tr>\n",
       "      <td>KML</td>\n",
       "      <td>0.020408</td>\n",
       "      <td>40.426020</td>\n",
       "      <td>55.448980</td>\n",
       "      <td>21.720102</td>\n",
       "      <td>47.918367</td>\n",
       "    </tr>\n",
       "    <tr>\n",
       "      <td>LWC</td>\n",
       "      <td>0.052250</td>\n",
       "      <td>150.252540</td>\n",
       "      <td>111.510813</td>\n",
       "      <td>72.893280</td>\n",
       "      <td>39.992743</td>\n",
       "    </tr>\n",
       "    <tr>\n",
       "      <td>RAB</td>\n",
       "      <td>0.001379</td>\n",
       "      <td>23.870345</td>\n",
       "      <td>17.817931</td>\n",
       "      <td>7.160276</td>\n",
       "      <td>42.689655</td>\n",
       "    </tr>\n",
       "    <tr>\n",
       "      <td>SSI</td>\n",
       "      <td>0.006629</td>\n",
       "      <td>122.757576</td>\n",
       "      <td>6.365208</td>\n",
       "      <td>1.784773</td>\n",
       "      <td>47.863636</td>\n",
       "    </tr>\n",
       "    <tr>\n",
       "      <td>TST</td>\n",
       "      <td>0.003788</td>\n",
       "      <td>40.594697</td>\n",
       "      <td>29.318182</td>\n",
       "      <td>10.380682</td>\n",
       "      <td>50.467803</td>\n",
       "    </tr>\n",
       "    <tr>\n",
       "      <td>TTW</td>\n",
       "      <td>0.040816</td>\n",
       "      <td>369.316327</td>\n",
       "      <td>93.204082</td>\n",
       "      <td>0.000000</td>\n",
       "      <td>40.642857</td>\n",
       "    </tr>\n",
       "  </tbody>\n",
       "</table>\n",
       "</div>"
      ],
      "text/plain": [
       "           Claim    Duration   Net Sales  Commision (in value)        Age\n",
       "Agency                                                                   \n",
       "ADM     0.000000   54.914634   53.256098             31.155366  22.853659\n",
       "ART     0.003021   30.359517   28.691601             10.261752  46.410876\n",
       "C2B     0.066167   95.219910   78.865811             20.094789  37.749244\n",
       "CBH     0.009901   91.950495   27.168317              9.344554  57.128713\n",
       "CCR     0.015464   62.809278   30.654639             10.116031  48.675258\n",
       "CSR     0.011628   79.895349   32.802326             10.824767  57.511628\n",
       "CWT     0.010023   41.450350   43.040769             28.928769  40.273660\n",
       "EPX     0.005553   39.158860   32.564993              0.000000  36.844899\n",
       "JWT     0.005340   29.371162   53.012016             21.553004  40.000000\n",
       "JZI     0.004898   34.196332   32.338442             11.481371  43.765524\n",
       "KML     0.020408   40.426020   55.448980             21.720102  47.918367\n",
       "LWC     0.052250  150.252540  111.510813             72.893280  39.992743\n",
       "RAB     0.001379   23.870345   17.817931              7.160276  42.689655\n",
       "SSI     0.006629  122.757576    6.365208              1.784773  47.863636\n",
       "TST     0.003788   40.594697   29.318182             10.380682  50.467803\n",
       "TTW     0.040816  369.316327   93.204082              0.000000  40.642857"
      ]
     },
     "execution_count": 158,
     "metadata": {},
     "output_type": "execute_result"
    }
   ],
   "source": [
    "df.groupby([\"Agency\"]).mean()"
   ]
  },
  {
   "cell_type": "code",
   "execution_count": 159,
   "metadata": {},
   "outputs": [
    {
     "data": {
      "text/html": [
       "<div>\n",
       "<style scoped>\n",
       "    .dataframe tbody tr th:only-of-type {\n",
       "        vertical-align: middle;\n",
       "    }\n",
       "\n",
       "    .dataframe tbody tr th {\n",
       "        vertical-align: top;\n",
       "    }\n",
       "\n",
       "    .dataframe thead th {\n",
       "        text-align: right;\n",
       "    }\n",
       "</style>\n",
       "<table border=\"1\" class=\"dataframe\">\n",
       "  <thead>\n",
       "    <tr style=\"text-align: right;\">\n",
       "      <th></th>\n",
       "      <th>Claim</th>\n",
       "      <th>Duration</th>\n",
       "      <th>Net Sales</th>\n",
       "      <th>Commision (in value)</th>\n",
       "      <th>Age</th>\n",
       "    </tr>\n",
       "    <tr>\n",
       "      <th>Agency Type</th>\n",
       "      <th></th>\n",
       "      <th></th>\n",
       "      <th></th>\n",
       "      <th></th>\n",
       "      <th></th>\n",
       "    </tr>\n",
       "  </thead>\n",
       "  <tbody>\n",
       "    <tr>\n",
       "      <td>Airlines</td>\n",
       "      <td>0.033855</td>\n",
       "      <td>67.743460</td>\n",
       "      <td>53.015767</td>\n",
       "      <td>15.203356</td>\n",
       "      <td>41.008249</td>\n",
       "    </tr>\n",
       "    <tr>\n",
       "      <td>Travel Agency</td>\n",
       "      <td>0.007325</td>\n",
       "      <td>42.309795</td>\n",
       "      <td>36.015604</td>\n",
       "      <td>6.950654</td>\n",
       "      <td>37.901546</td>\n",
       "    </tr>\n",
       "  </tbody>\n",
       "</table>\n",
       "</div>"
      ],
      "text/plain": [
       "                  Claim   Duration  Net Sales  Commision (in value)        Age\n",
       "Agency Type                                                                   \n",
       "Airlines       0.033855  67.743460  53.015767             15.203356  41.008249\n",
       "Travel Agency  0.007325  42.309795  36.015604              6.950654  37.901546"
      ]
     },
     "execution_count": 159,
     "metadata": {},
     "output_type": "execute_result"
    }
   ],
   "source": [
    "df.groupby(['Agency Type']).mean()"
   ]
  },
  {
   "cell_type": "code",
   "execution_count": 160,
   "metadata": {
    "scrolled": false
   },
   "outputs": [
    {
     "data": {
      "text/html": [
       "<div>\n",
       "<style scoped>\n",
       "    .dataframe tbody tr th:only-of-type {\n",
       "        vertical-align: middle;\n",
       "    }\n",
       "\n",
       "    .dataframe tbody tr th {\n",
       "        vertical-align: top;\n",
       "    }\n",
       "\n",
       "    .dataframe thead th {\n",
       "        text-align: right;\n",
       "    }\n",
       "</style>\n",
       "<table border=\"1\" class=\"dataframe\">\n",
       "  <thead>\n",
       "    <tr style=\"text-align: right;\">\n",
       "      <th></th>\n",
       "      <th>Claim</th>\n",
       "      <th>Duration</th>\n",
       "      <th>Net Sales</th>\n",
       "      <th>Commision (in value)</th>\n",
       "      <th>Age</th>\n",
       "    </tr>\n",
       "    <tr>\n",
       "      <th>Distribution Channel</th>\n",
       "      <th></th>\n",
       "      <th></th>\n",
       "      <th></th>\n",
       "      <th></th>\n",
       "      <th></th>\n",
       "    </tr>\n",
       "  </thead>\n",
       "  <tbody>\n",
       "    <tr>\n",
       "      <td>Offline</td>\n",
       "      <td>0.015357</td>\n",
       "      <td>80.495032</td>\n",
       "      <td>36.657281</td>\n",
       "      <td>8.872836</td>\n",
       "      <td>49.488708</td>\n",
       "    </tr>\n",
       "    <tr>\n",
       "      <td>Online</td>\n",
       "      <td>0.014626</td>\n",
       "      <td>48.766415</td>\n",
       "      <td>40.773982</td>\n",
       "      <td>9.231944</td>\n",
       "      <td>38.567045</td>\n",
       "    </tr>\n",
       "  </tbody>\n",
       "</table>\n",
       "</div>"
      ],
      "text/plain": [
       "                         Claim   Duration  Net Sales  Commision (in value)  \\\n",
       "Distribution Channel                                                         \n",
       "Offline               0.015357  80.495032  36.657281              8.872836   \n",
       "Online                0.014626  48.766415  40.773982              9.231944   \n",
       "\n",
       "                            Age  \n",
       "Distribution Channel             \n",
       "Offline               49.488708  \n",
       "Online                38.567045  "
      ]
     },
     "execution_count": 160,
     "metadata": {},
     "output_type": "execute_result"
    }
   ],
   "source": [
    "df.groupby(['Distribution Channel']).mean()"
   ]
  },
  {
   "cell_type": "code",
   "execution_count": 23,
   "metadata": {},
   "outputs": [],
   "source": [
    "claimed = df[df[\"Claim\"]==1]"
   ]
  },
  {
   "cell_type": "markdown",
   "metadata": {},
   "source": [
    "Dataset is highly imbalances.Claimed policies are 927. However, Not Claimed policies are 62399."
   ]
  },
  {
   "cell_type": "code",
   "execution_count": 24,
   "metadata": {
    "scrolled": false
   },
   "outputs": [
    {
     "name": "stdout",
     "output_type": "stream",
     "text": [
      "Claimed: 927\n",
      "Not Claimed : 62399\n"
     ]
    }
   ],
   "source": [
    "print(\"Claimed:\",df[df[\"Claim\"] == 1][\"Claim\"].count())\n",
    "print(\"Not Claimed :\",df[df[\"Claim\"] == 0][\"Claim\"].count())"
   ]
  },
  {
   "cell_type": "markdown",
   "metadata": {},
   "source": [
    "Different policy plans have different coverage. Some of plans cover most of types of injury or disease, so the possibility of claims. Also it shows the percentage of claims. Annual silver plan has the highest claim percentage"
   ]
  },
  {
   "cell_type": "code",
   "execution_count": 25,
   "metadata": {
    "scrolled": true
   },
   "outputs": [
    {
     "data": {
      "text/html": [
       "<div>\n",
       "<style scoped>\n",
       "    .dataframe tbody tr th:only-of-type {\n",
       "        vertical-align: middle;\n",
       "    }\n",
       "\n",
       "    .dataframe tbody tr th {\n",
       "        vertical-align: top;\n",
       "    }\n",
       "\n",
       "    .dataframe thead th {\n",
       "        text-align: right;\n",
       "    }\n",
       "</style>\n",
       "<table border=\"1\" class=\"dataframe\">\n",
       "  <thead>\n",
       "    <tr style=\"text-align: right;\">\n",
       "      <th></th>\n",
       "      <th>Product Name_subscribed</th>\n",
       "      <th>Product Name_claimed</th>\n",
       "      <th>Product Name</th>\n",
       "    </tr>\n",
       "  </thead>\n",
       "  <tbody>\n",
       "    <tr>\n",
       "      <td>Cancellation Plan</td>\n",
       "      <td>18630</td>\n",
       "      <td>44.0</td>\n",
       "      <td>0.236178</td>\n",
       "    </tr>\n",
       "    <tr>\n",
       "      <td>2 way Comprehensive Plan</td>\n",
       "      <td>13158</td>\n",
       "      <td>142.0</td>\n",
       "      <td>1.079191</td>\n",
       "    </tr>\n",
       "    <tr>\n",
       "      <td>Rental Vehicle Excess Insurance</td>\n",
       "      <td>8580</td>\n",
       "      <td>86.0</td>\n",
       "      <td>1.002331</td>\n",
       "    </tr>\n",
       "    <tr>\n",
       "      <td>Basic Plan</td>\n",
       "      <td>5469</td>\n",
       "      <td>23.0</td>\n",
       "      <td>0.420552</td>\n",
       "    </tr>\n",
       "    <tr>\n",
       "      <td>Bronze Plan</td>\n",
       "      <td>4049</td>\n",
       "      <td>210.0</td>\n",
       "      <td>5.186466</td>\n",
       "    </tr>\n",
       "    <tr>\n",
       "      <td>1 way Comprehensive Plan</td>\n",
       "      <td>3331</td>\n",
       "      <td>9.0</td>\n",
       "      <td>0.270189</td>\n",
       "    </tr>\n",
       "    <tr>\n",
       "      <td>Value Plan</td>\n",
       "      <td>2715</td>\n",
       "      <td>19.0</td>\n",
       "      <td>0.699816</td>\n",
       "    </tr>\n",
       "    <tr>\n",
       "      <td>Silver Plan</td>\n",
       "      <td>2249</td>\n",
       "      <td>141.0</td>\n",
       "      <td>6.269453</td>\n",
       "    </tr>\n",
       "    <tr>\n",
       "      <td>Annual Silver Plan</td>\n",
       "      <td>1423</td>\n",
       "      <td>157.0</td>\n",
       "      <td>11.033029</td>\n",
       "    </tr>\n",
       "    <tr>\n",
       "      <td>Ticket Protector</td>\n",
       "      <td>1056</td>\n",
       "      <td>7.0</td>\n",
       "      <td>0.662879</td>\n",
       "    </tr>\n",
       "    <tr>\n",
       "      <td>Travel Cruise Protect</td>\n",
       "      <td>527</td>\n",
       "      <td>2.0</td>\n",
       "      <td>0.379507</td>\n",
       "    </tr>\n",
       "    <tr>\n",
       "      <td>Comprehensive Plan</td>\n",
       "      <td>364</td>\n",
       "      <td>5.0</td>\n",
       "      <td>1.373626</td>\n",
       "    </tr>\n",
       "    <tr>\n",
       "      <td>Gold Plan</td>\n",
       "      <td>352</td>\n",
       "      <td>18.0</td>\n",
       "      <td>5.113636</td>\n",
       "    </tr>\n",
       "    <tr>\n",
       "      <td>24 Protect</td>\n",
       "      <td>247</td>\n",
       "      <td>0.0</td>\n",
       "      <td>0.000000</td>\n",
       "    </tr>\n",
       "    <tr>\n",
       "      <td>Single Trip Travel Protect Gold</td>\n",
       "      <td>204</td>\n",
       "      <td>10.0</td>\n",
       "      <td>4.901961</td>\n",
       "    </tr>\n",
       "    <tr>\n",
       "      <td>Premier Plan</td>\n",
       "      <td>194</td>\n",
       "      <td>3.0</td>\n",
       "      <td>1.546392</td>\n",
       "    </tr>\n",
       "    <tr>\n",
       "      <td>Annual Gold Plan</td>\n",
       "      <td>194</td>\n",
       "      <td>21.0</td>\n",
       "      <td>10.824742</td>\n",
       "    </tr>\n",
       "    <tr>\n",
       "      <td>Single Trip Travel Protect Silver</td>\n",
       "      <td>173</td>\n",
       "      <td>4.0</td>\n",
       "      <td>2.312139</td>\n",
       "    </tr>\n",
       "    <tr>\n",
       "      <td>Annual Travel Protect Gold</td>\n",
       "      <td>100</td>\n",
       "      <td>10.0</td>\n",
       "      <td>10.000000</td>\n",
       "    </tr>\n",
       "    <tr>\n",
       "      <td>Annual Travel Protect Silver</td>\n",
       "      <td>86</td>\n",
       "      <td>4.0</td>\n",
       "      <td>4.651163</td>\n",
       "    </tr>\n",
       "    <tr>\n",
       "      <td>Individual Comprehensive Plan</td>\n",
       "      <td>74</td>\n",
       "      <td>3.0</td>\n",
       "      <td>4.054054</td>\n",
       "    </tr>\n",
       "    <tr>\n",
       "      <td>Single Trip Travel Protect Platinum</td>\n",
       "      <td>73</td>\n",
       "      <td>5.0</td>\n",
       "      <td>6.849315</td>\n",
       "    </tr>\n",
       "    <tr>\n",
       "      <td>Annual Travel Protect Platinum</td>\n",
       "      <td>53</td>\n",
       "      <td>3.0</td>\n",
       "      <td>5.660377</td>\n",
       "    </tr>\n",
       "    <tr>\n",
       "      <td>Spouse or Parents Comprehensive Plan</td>\n",
       "      <td>15</td>\n",
       "      <td>1.0</td>\n",
       "      <td>6.666667</td>\n",
       "    </tr>\n",
       "    <tr>\n",
       "      <td>Child Comprehensive Plan</td>\n",
       "      <td>9</td>\n",
       "      <td>0.0</td>\n",
       "      <td>0.000000</td>\n",
       "    </tr>\n",
       "    <tr>\n",
       "      <td>Travel Cruise Protect Family</td>\n",
       "      <td>1</td>\n",
       "      <td>0.0</td>\n",
       "      <td>0.000000</td>\n",
       "    </tr>\n",
       "  </tbody>\n",
       "</table>\n",
       "</div>"
      ],
      "text/plain": [
       "                                      Product Name_subscribed  \\\n",
       "Cancellation Plan                                       18630   \n",
       "2 way Comprehensive Plan                                13158   \n",
       "Rental Vehicle Excess Insurance                          8580   \n",
       "Basic Plan                                               5469   \n",
       "Bronze Plan                                              4049   \n",
       "1 way Comprehensive Plan                                 3331   \n",
       "Value Plan                                               2715   \n",
       "Silver Plan                                              2249   \n",
       "Annual Silver Plan                                       1423   \n",
       "Ticket Protector                                         1056   \n",
       "Travel Cruise Protect                                     527   \n",
       "Comprehensive Plan                                        364   \n",
       "Gold Plan                                                 352   \n",
       "24 Protect                                                247   \n",
       "Single Trip Travel Protect Gold                           204   \n",
       "Premier Plan                                              194   \n",
       "Annual Gold Plan                                          194   \n",
       "Single Trip Travel Protect Silver                         173   \n",
       "Annual Travel Protect Gold                                100   \n",
       "Annual Travel Protect Silver                               86   \n",
       "Individual Comprehensive Plan                              74   \n",
       "Single Trip Travel Protect Platinum                        73   \n",
       "Annual Travel Protect Platinum                             53   \n",
       "Spouse or Parents Comprehensive Plan                       15   \n",
       "Child Comprehensive Plan                                    9   \n",
       "Travel Cruise Protect Family                                1   \n",
       "\n",
       "                                      Product Name_claimed  Product Name  \n",
       "Cancellation Plan                                     44.0      0.236178  \n",
       "2 way Comprehensive Plan                             142.0      1.079191  \n",
       "Rental Vehicle Excess Insurance                       86.0      1.002331  \n",
       "Basic Plan                                            23.0      0.420552  \n",
       "Bronze Plan                                          210.0      5.186466  \n",
       "1 way Comprehensive Plan                               9.0      0.270189  \n",
       "Value Plan                                            19.0      0.699816  \n",
       "Silver Plan                                          141.0      6.269453  \n",
       "Annual Silver Plan                                   157.0     11.033029  \n",
       "Ticket Protector                                       7.0      0.662879  \n",
       "Travel Cruise Protect                                  2.0      0.379507  \n",
       "Comprehensive Plan                                     5.0      1.373626  \n",
       "Gold Plan                                             18.0      5.113636  \n",
       "24 Protect                                             0.0      0.000000  \n",
       "Single Trip Travel Protect Gold                       10.0      4.901961  \n",
       "Premier Plan                                           3.0      1.546392  \n",
       "Annual Gold Plan                                      21.0     10.824742  \n",
       "Single Trip Travel Protect Silver                      4.0      2.312139  \n",
       "Annual Travel Protect Gold                            10.0     10.000000  \n",
       "Annual Travel Protect Silver                           4.0      4.651163  \n",
       "Individual Comprehensive Plan                          3.0      4.054054  \n",
       "Single Trip Travel Protect Platinum                    5.0      6.849315  \n",
       "Annual Travel Protect Platinum                         3.0      5.660377  \n",
       "Spouse or Parents Comprehensive Plan                   1.0      6.666667  \n",
       "Child Comprehensive Plan                               0.0      0.000000  \n",
       "Travel Cruise Protect Family                           0.0      0.000000  "
      ]
     },
     "execution_count": 25,
     "metadata": {},
     "output_type": "execute_result"
    }
   ],
   "source": [
    "a = pd.DataFrame(df.loc[:, \"Product Name\"].value_counts())\n",
    "b = pd.DataFrame(claimed.loc[:, \"Product Name\"].value_counts())\n",
    "c = (b / a) * 100\n",
    "combined = a.join(b, lsuffix = \"_subscribed\", rsuffix = \"_claimed\")\n",
    "combined1 = combined.join(c,rsuffix = \"_percentage\")\n",
    "combined1.fillna(0, inplace = True)\n",
    "combined1"
   ]
  },
  {
   "cell_type": "markdown",
   "metadata": {},
   "source": [
    "The following visualization is to understand whether claimed policies happens in few of countries. \n",
    "If an abudunce in one of countries means that this country might have some of unavoidable situtation that lead to \n",
    "injury or disease."
   ]
  },
  {
   "cell_type": "code",
   "execution_count": 170,
   "metadata": {},
   "outputs": [
    {
     "data": {
      "text/plain": [
       "<matplotlib.axes._subplots.AxesSubplot at 0x1e8678ace08>"
      ]
     },
     "execution_count": 170,
     "metadata": {},
     "output_type": "execute_result"
    },
    {
     "data": {
      "image/png": "[encoded data removed]",
      "text/plain": [
       "<Figure size 360x360 with 1 Axes>"
      ]
     },
     "metadata": {},
     "output_type": "display_data"
    }
   ],
   "source": [
    "claimed['Destination'].value_counts().head(10).plot(kind='barh', figsize=(5,5))"
   ]
  },
  {
   "cell_type": "markdown",
   "metadata": {},
   "source": [
    "In the below graph, we want to discover whether specific agency companies lead to an increase in the numbers of claimed policies.Eg. EPX has more sold policies, but it does not lead to more claimed policies, rather C2B has more claimed ones "
   ]
  },
  {
   "cell_type": "code",
   "execution_count": 171,
   "metadata": {
    "scrolled": false
   },
   "outputs": [
    {
     "data": {
      "text/plain": [
       "<matplotlib.axes._subplots.AxesSubplot at 0x1e867917f08>"
      ]
     },
     "execution_count": 171,
     "metadata": {},
     "output_type": "execute_result"
    },
    {
     "data": {
      "image/png": "[encoded data removed]",
      "text/plain": [
       "<Figure size 1080x360 with 2 Axes>"
      ]
     },
     "metadata": {},
     "output_type": "display_data"
    }
   ],
   "source": [
    "f, axes = plt.subplots(1, 2)\n",
    "f.set_size_inches(15,5)\n",
    "axes[0].set_title('General')\n",
    "axes[1].set_title('Agency (Claimed Policies)')\n",
    "sns.countplot(y=\"Agency\", data=df, ax = axes[0])\n",
    "sns.countplot(y=\"Agency\", data=claimed, ax = axes[1])"
   ]
  },
  {
   "cell_type": "markdown",
   "metadata": {},
   "source": [
    "Checking distribution of categorical columns in the dataset"
   ]
  },
  {
   "cell_type": "code",
   "execution_count": 184,
   "metadata": {},
   "outputs": [
    {
     "data": {
      "text/plain": [
       "Text(0.5, 1.0, 'Gender')"
      ]
     },
     "execution_count": 184,
     "metadata": {},
     "output_type": "execute_result"
    },
    {
     "data": {
      "image/png": "[encoded data removed]",
      "text/plain": [
       "<Figure size 1080x720 with 4 Axes>"
      ]
     },
     "metadata": {},
     "output_type": "display_data"
    }
   ],
   "source": [
    "plt.figure(figsize=(15,10))\n",
    "plt.subplot(2,2,1)\n",
    "sns.countplot(df['Agency Type'])\n",
    "plt.title('Agency_Type')\n",
    "plt.subplot(2,2,2)\n",
    "sns.countplot(df['Distribution Channel'])\n",
    "plt.title('Distribution_Channel')\n",
    "\n",
    "plt.subplot(2,2,3)\n",
    "sns.countplot(df['Agency'])\n",
    "plt.title('Agency')\n",
    "plt.xticks(rotation=90)\n",
    "\n",
    "plt.subplot(2,2,4)\n",
    "sns.countplot(df['Gender'])\n",
    "plt.title('Gender')"
   ]
  },
  {
   "cell_type": "markdown",
   "metadata": {},
   "source": [
    "Pair plots showing the relationships of the categorical features wrt to the target variable"
   ]
  },
  {
   "cell_type": "code",
   "execution_count": 155,
   "metadata": {
    "scrolled": false
   },
   "outputs": [
    {
     "data": {
      "image/png": "[encoded data removed]",
      "text/plain": [
       "<Figure size 773.25x720 with 20 Axes>"
      ]
     },
     "metadata": {},
     "output_type": "display_data"
    }
   ],
   "source": [
    "sns.set_style(\"whitegrid\");\n",
    "sns.pairplot(df, hue=\"Claim\");\n",
    "plt.show()"
   ]
  },
  {
   "cell_type": "markdown",
   "metadata": {},
   "source": [
    "From the above we can come to below conclusions:\n",
    "\n",
    "Here we clearly see that Commision and Net Values are corelated and distributions look same (linearlly distributed).\n",
    "So we can drop any of the feature 'Commision' or 'Net Sales'. So that it should not effect the Model.\n",
    "Also there won't be a -Ve values in Net Sales Amount. Might be outliers, these should be removed.\n",
    "We observe ~20% of insured are in 35-40 Age."
   ]
  },
  {
   "cell_type": "code",
   "execution_count": 26,
   "metadata": {},
   "outputs": [
    {
     "data": {
      "text/html": [
       "<div>\n",
       "<style scoped>\n",
       "    .dataframe tbody tr th:only-of-type {\n",
       "        vertical-align: middle;\n",
       "    }\n",
       "\n",
       "    .dataframe tbody tr th {\n",
       "        vertical-align: top;\n",
       "    }\n",
       "\n",
       "    .dataframe thead th {\n",
       "        text-align: right;\n",
       "    }\n",
       "</style>\n",
       "<table border=\"1\" class=\"dataframe\">\n",
       "  <thead>\n",
       "    <tr style=\"text-align: right;\">\n",
       "      <th></th>\n",
       "      <th>Agency</th>\n",
       "      <th>Agency Type</th>\n",
       "      <th>Distribution Channel</th>\n",
       "      <th>Product Name</th>\n",
       "      <th>Duration</th>\n",
       "      <th>Destination</th>\n",
       "      <th>Net Sales</th>\n",
       "      <th>Commision (in value)</th>\n",
       "      <th>Gender</th>\n",
       "      <th>Age</th>\n",
       "    </tr>\n",
       "  </thead>\n",
       "  <tbody>\n",
       "    <tr>\n",
       "      <td>0</td>\n",
       "      <td>CBH</td>\n",
       "      <td>Travel Agency</td>\n",
       "      <td>Offline</td>\n",
       "      <td>Comprehensive Plan</td>\n",
       "      <td>186.0</td>\n",
       "      <td>MALAYSIA</td>\n",
       "      <td>-29.0</td>\n",
       "      <td>9.57</td>\n",
       "      <td>F</td>\n",
       "      <td>81</td>\n",
       "    </tr>\n",
       "    <tr>\n",
       "      <td>1</td>\n",
       "      <td>CBH</td>\n",
       "      <td>Travel Agency</td>\n",
       "      <td>Offline</td>\n",
       "      <td>Comprehensive Plan</td>\n",
       "      <td>186.0</td>\n",
       "      <td>MALAYSIA</td>\n",
       "      <td>-29.0</td>\n",
       "      <td>9.57</td>\n",
       "      <td>F</td>\n",
       "      <td>71</td>\n",
       "    </tr>\n",
       "    <tr>\n",
       "      <td>2</td>\n",
       "      <td>CWT</td>\n",
       "      <td>Travel Agency</td>\n",
       "      <td>Online</td>\n",
       "      <td>Rental Vehicle Excess Insurance</td>\n",
       "      <td>65.0</td>\n",
       "      <td>AUSTRALIA</td>\n",
       "      <td>-49.5</td>\n",
       "      <td>29.70</td>\n",
       "      <td>Unknown</td>\n",
       "      <td>32</td>\n",
       "    </tr>\n",
       "    <tr>\n",
       "      <td>3</td>\n",
       "      <td>CWT</td>\n",
       "      <td>Travel Agency</td>\n",
       "      <td>Online</td>\n",
       "      <td>Rental Vehicle Excess Insurance</td>\n",
       "      <td>60.0</td>\n",
       "      <td>AUSTRALIA</td>\n",
       "      <td>-39.6</td>\n",
       "      <td>23.76</td>\n",
       "      <td>Unknown</td>\n",
       "      <td>32</td>\n",
       "    </tr>\n",
       "    <tr>\n",
       "      <td>4</td>\n",
       "      <td>CWT</td>\n",
       "      <td>Travel Agency</td>\n",
       "      <td>Online</td>\n",
       "      <td>Rental Vehicle Excess Insurance</td>\n",
       "      <td>79.0</td>\n",
       "      <td>ITALY</td>\n",
       "      <td>-19.8</td>\n",
       "      <td>11.88</td>\n",
       "      <td>Unknown</td>\n",
       "      <td>41</td>\n",
       "    </tr>\n",
       "    <tr>\n",
       "      <td>...</td>\n",
       "      <td>...</td>\n",
       "      <td>...</td>\n",
       "      <td>...</td>\n",
       "      <td>...</td>\n",
       "      <td>...</td>\n",
       "      <td>...</td>\n",
       "      <td>...</td>\n",
       "      <td>...</td>\n",
       "      <td>...</td>\n",
       "      <td>...</td>\n",
       "    </tr>\n",
       "    <tr>\n",
       "      <td>63321</td>\n",
       "      <td>JZI</td>\n",
       "      <td>Airlines</td>\n",
       "      <td>Online</td>\n",
       "      <td>Basic Plan</td>\n",
       "      <td>111.0</td>\n",
       "      <td>JAPAN</td>\n",
       "      <td>35.0</td>\n",
       "      <td>12.25</td>\n",
       "      <td>M</td>\n",
       "      <td>31</td>\n",
       "    </tr>\n",
       "    <tr>\n",
       "      <td>63322</td>\n",
       "      <td>JZI</td>\n",
       "      <td>Airlines</td>\n",
       "      <td>Online</td>\n",
       "      <td>Basic Plan</td>\n",
       "      <td>58.0</td>\n",
       "      <td>CHINA</td>\n",
       "      <td>40.0</td>\n",
       "      <td>14.00</td>\n",
       "      <td>F</td>\n",
       "      <td>40</td>\n",
       "    </tr>\n",
       "    <tr>\n",
       "      <td>63323</td>\n",
       "      <td>JZI</td>\n",
       "      <td>Airlines</td>\n",
       "      <td>Online</td>\n",
       "      <td>Basic Plan</td>\n",
       "      <td>2.0</td>\n",
       "      <td>MALAYSIA</td>\n",
       "      <td>18.0</td>\n",
       "      <td>6.30</td>\n",
       "      <td>M</td>\n",
       "      <td>57</td>\n",
       "    </tr>\n",
       "    <tr>\n",
       "      <td>63324</td>\n",
       "      <td>JZI</td>\n",
       "      <td>Airlines</td>\n",
       "      <td>Online</td>\n",
       "      <td>Basic Plan</td>\n",
       "      <td>3.0</td>\n",
       "      <td>VIET NAM</td>\n",
       "      <td>18.0</td>\n",
       "      <td>6.30</td>\n",
       "      <td>M</td>\n",
       "      <td>63</td>\n",
       "    </tr>\n",
       "    <tr>\n",
       "      <td>63325</td>\n",
       "      <td>JZI</td>\n",
       "      <td>Airlines</td>\n",
       "      <td>Online</td>\n",
       "      <td>Basic Plan</td>\n",
       "      <td>22.0</td>\n",
       "      <td>HONG KONG</td>\n",
       "      <td>26.0</td>\n",
       "      <td>9.10</td>\n",
       "      <td>F</td>\n",
       "      <td>35</td>\n",
       "    </tr>\n",
       "  </tbody>\n",
       "</table>\n",
       "<p>63326 rows × 10 columns</p>\n",
       "</div>"
      ],
      "text/plain": [
       "      Agency    Agency Type Distribution Channel  \\\n",
       "0        CBH  Travel Agency              Offline   \n",
       "1        CBH  Travel Agency              Offline   \n",
       "2        CWT  Travel Agency               Online   \n",
       "3        CWT  Travel Agency               Online   \n",
       "4        CWT  Travel Agency               Online   \n",
       "...      ...            ...                  ...   \n",
       "63321    JZI       Airlines               Online   \n",
       "63322    JZI       Airlines               Online   \n",
       "63323    JZI       Airlines               Online   \n",
       "63324    JZI       Airlines               Online   \n",
       "63325    JZI       Airlines               Online   \n",
       "\n",
       "                          Product Name  Duration Destination  Net Sales  \\\n",
       "0                   Comprehensive Plan     186.0    MALAYSIA      -29.0   \n",
       "1                   Comprehensive Plan     186.0    MALAYSIA      -29.0   \n",
       "2      Rental Vehicle Excess Insurance      65.0   AUSTRALIA      -49.5   \n",
       "3      Rental Vehicle Excess Insurance      60.0   AUSTRALIA      -39.6   \n",
       "4      Rental Vehicle Excess Insurance      79.0       ITALY      -19.8   \n",
       "...                                ...       ...         ...        ...   \n",
       "63321                       Basic Plan     111.0       JAPAN       35.0   \n",
       "63322                       Basic Plan      58.0       CHINA       40.0   \n",
       "63323                       Basic Plan       2.0    MALAYSIA       18.0   \n",
       "63324                       Basic Plan       3.0    VIET NAM       18.0   \n",
       "63325                       Basic Plan      22.0   HONG KONG       26.0   \n",
       "\n",
       "       Commision (in value)   Gender  Age  \n",
       "0                      9.57        F   81  \n",
       "1                      9.57        F   71  \n",
       "2                     29.70  Unknown   32  \n",
       "3                     23.76  Unknown   32  \n",
       "4                     11.88  Unknown   41  \n",
       "...                     ...      ...  ...  \n",
       "63321                 12.25        M   31  \n",
       "63322                 14.00        F   40  \n",
       "63323                  6.30        M   57  \n",
       "63324                  6.30        M   63  \n",
       "63325                  9.10        F   35  \n",
       "\n",
       "[63326 rows x 10 columns]"
      ]
     },
     "execution_count": 26,
     "metadata": {},
     "output_type": "execute_result"
    }
   ],
   "source": [
    "df1 = df.drop('Claim',axis=1)\n",
    "df1"
   ]
  },
  {
   "cell_type": "markdown",
   "metadata": {},
   "source": [
    "Distribution of age in dataset"
   ]
  },
  {
   "cell_type": "code",
   "execution_count": 185,
   "metadata": {},
   "outputs": [
    {
     "data": {
      "text/plain": [
       "(array([-20.,   0.,  20.,  40.,  60.,  80., 100.]),\n",
       " <a list of 7 Text xticklabel objects>)"
      ]
     },
     "execution_count": 185,
     "metadata": {},
     "output_type": "execute_result"
    },
    {
     "data": {
      "image/png": "[encoded data removed]",
      "text/plain": [
       "<Figure size 720x288 with 1 Axes>"
      ]
     },
     "metadata": {},
     "output_type": "display_data"
    }
   ],
   "source": [
    "plt.figure(figsize = (10,4))\n",
    "plt.hist(df['Age'],bins=100)\n",
    "plt.title('Age')\n",
    "plt.xticks(rotation=90)"
   ]
  },
  {
   "cell_type": "code",
   "execution_count": 80,
   "metadata": {
    "scrolled": true
   },
   "outputs": [
    {
     "data": {
      "text/plain": [
       "<matplotlib.axes._subplots.AxesSubplot at 0x1c8c7828e88>"
      ]
     },
     "execution_count": 80,
     "metadata": {},
     "output_type": "execute_result"
    },
    {
     "data": {
      "image/png": "[encoded data removed]",
      "text/plain": [
       "<Figure size 1080x720 with 2 Axes>"
      ]
     },
     "metadata": {
      "needs_background": "light"
     },
     "output_type": "display_data"
    }
   ],
   "source": [
    "#check correlation\n",
    "plt.figure(figsize=(15,10))\n",
    "sns.heatmap(df1.corr(method='spearman'),annot=True,cmap='coolwarm')"
   ]
  },
  {
   "cell_type": "code",
   "execution_count": 27,
   "metadata": {
    "scrolled": true
   },
   "outputs": [
    {
     "data": {
      "text/plain": [
       "Agency                  678\n",
       "Agency Type             678\n",
       "Distribution Channel    678\n",
       "Product Name            678\n",
       "Claim                   678\n",
       "Duration                678\n",
       "Destination             678\n",
       "Net Sales               678\n",
       "Commision (in value)    678\n",
       "Gender                  678\n",
       "Age                     678\n",
       "dtype: int64"
      ]
     },
     "execution_count": 27,
     "metadata": {},
     "output_type": "execute_result"
    }
   ],
   "source": [
    "df[df['Net Sales'] < 0 ].count() "
   ]
  },
  {
   "cell_type": "code",
   "execution_count": 36,
   "metadata": {},
   "outputs": [],
   "source": [
    "# df.drop((df['Net Sales'] < 0,axis=0),inplace=True)\n",
    "df.drop(df[df['Net Sales'] < 0].index, inplace = True)"
   ]
  },
  {
   "cell_type": "code",
   "execution_count": 37,
   "metadata": {},
   "outputs": [
    {
     "data": {
      "text/plain": [
       "Agency                  0\n",
       "Agency Type             0\n",
       "Distribution Channel    0\n",
       "Product Name            0\n",
       "Claim                   0\n",
       "Duration                0\n",
       "Destination             0\n",
       "Net Sales               0\n",
       "Commision (in value)    0\n",
       "Age                     0\n",
       "dtype: int64"
      ]
     },
     "execution_count": 37,
     "metadata": {},
     "output_type": "execute_result"
    }
   ],
   "source": [
    "df[df['Net Sales'] < 0 ].count() "
   ]
  },
  {
   "cell_type": "code",
   "execution_count": 38,
   "metadata": {},
   "outputs": [
    {
     "data": {
      "text/plain": [
       "Agency                  0\n",
       "Agency Type             0\n",
       "Distribution Channel    0\n",
       "Product Name            0\n",
       "Claim                   0\n",
       "Duration                0\n",
       "Destination             0\n",
       "Net Sales               0\n",
       "Commision (in value)    0\n",
       "Age                     0\n",
       "dtype: int64"
      ]
     },
     "execution_count": 38,
     "metadata": {},
     "output_type": "execute_result"
    }
   ],
   "source": [
    "df[df['Duration'] < 0 ].count() "
   ]
  },
  {
   "cell_type": "code",
   "execution_count": 39,
   "metadata": {},
   "outputs": [
    {
     "ename": "KeyError",
     "evalue": "\"['Gender'] not found in axis\"",
     "output_type": "error",
     "traceback": [
      "\u001b[1;31m---------------------------------------------------------------------------\u001b[0m",
      "\u001b[1;31mKeyError\u001b[0m                                  Traceback (most recent call last)",
      "\u001b[1;32m<ipython-input-39-aa1f04cbfb81>\u001b[0m in \u001b[0;36m<module>\u001b[1;34m\u001b[0m\n\u001b[1;32m----> 1\u001b[1;33m \u001b[0mdf\u001b[0m \u001b[1;33m=\u001b[0m \u001b[0mdf\u001b[0m\u001b[1;33m.\u001b[0m\u001b[0mdrop\u001b[0m\u001b[1;33m(\u001b[0m\u001b[1;34m'Gender'\u001b[0m\u001b[1;33m,\u001b[0m\u001b[0maxis\u001b[0m\u001b[1;33m=\u001b[0m\u001b[1;36m1\u001b[0m\u001b[1;33m)\u001b[0m\u001b[1;33m\u001b[0m\u001b[1;33m\u001b[0m\u001b[0m\n\u001b[0m",
      "\u001b[1;32m~\\Anaconda3\\lib\\site-packages\\pandas\\core\\frame.py\u001b[0m in \u001b[0;36mdrop\u001b[1;34m(self, labels, axis, index, columns, level, inplace, errors)\u001b[0m\n\u001b[0;32m   4100\u001b[0m             \u001b[0mlevel\u001b[0m\u001b[1;33m=\u001b[0m\u001b[0mlevel\u001b[0m\u001b[1;33m,\u001b[0m\u001b[1;33m\u001b[0m\u001b[1;33m\u001b[0m\u001b[0m\n\u001b[0;32m   4101\u001b[0m             \u001b[0minplace\u001b[0m\u001b[1;33m=\u001b[0m\u001b[0minplace\u001b[0m\u001b[1;33m,\u001b[0m\u001b[1;33m\u001b[0m\u001b[1;33m\u001b[0m\u001b[0m\n\u001b[1;32m-> 4102\u001b[1;33m             \u001b[0merrors\u001b[0m\u001b[1;33m=\u001b[0m\u001b[0merrors\u001b[0m\u001b[1;33m,\u001b[0m\u001b[1;33m\u001b[0m\u001b[1;33m\u001b[0m\u001b[0m\n\u001b[0m\u001b[0;32m   4103\u001b[0m         )\n\u001b[0;32m   4104\u001b[0m \u001b[1;33m\u001b[0m\u001b[0m\n",
      "\u001b[1;32m~\\Anaconda3\\lib\\site-packages\\pandas\\core\\generic.py\u001b[0m in \u001b[0;36mdrop\u001b[1;34m(self, labels, axis, index, columns, level, inplace, errors)\u001b[0m\n\u001b[0;32m   3912\u001b[0m         \u001b[1;32mfor\u001b[0m \u001b[0maxis\u001b[0m\u001b[1;33m,\u001b[0m \u001b[0mlabels\u001b[0m \u001b[1;32min\u001b[0m \u001b[0maxes\u001b[0m\u001b[1;33m.\u001b[0m\u001b[0mitems\u001b[0m\u001b[1;33m(\u001b[0m\u001b[1;33m)\u001b[0m\u001b[1;33m:\u001b[0m\u001b[1;33m\u001b[0m\u001b[1;33m\u001b[0m\u001b[0m\n\u001b[0;32m   3913\u001b[0m             \u001b[1;32mif\u001b[0m \u001b[0mlabels\u001b[0m \u001b[1;32mis\u001b[0m \u001b[1;32mnot\u001b[0m \u001b[1;32mNone\u001b[0m\u001b[1;33m:\u001b[0m\u001b[1;33m\u001b[0m\u001b[1;33m\u001b[0m\u001b[0m\n\u001b[1;32m-> 3914\u001b[1;33m                 \u001b[0mobj\u001b[0m \u001b[1;33m=\u001b[0m \u001b[0mobj\u001b[0m\u001b[1;33m.\u001b[0m\u001b[0m_drop_axis\u001b[0m\u001b[1;33m(\u001b[0m\u001b[0mlabels\u001b[0m\u001b[1;33m,\u001b[0m \u001b[0maxis\u001b[0m\u001b[1;33m,\u001b[0m \u001b[0mlevel\u001b[0m\u001b[1;33m=\u001b[0m\u001b[0mlevel\u001b[0m\u001b[1;33m,\u001b[0m \u001b[0merrors\u001b[0m\u001b[1;33m=\u001b[0m\u001b[0merrors\u001b[0m\u001b[1;33m)\u001b[0m\u001b[1;33m\u001b[0m\u001b[1;33m\u001b[0m\u001b[0m\n\u001b[0m\u001b[0;32m   3915\u001b[0m \u001b[1;33m\u001b[0m\u001b[0m\n\u001b[0;32m   3916\u001b[0m         \u001b[1;32mif\u001b[0m \u001b[0minplace\u001b[0m\u001b[1;33m:\u001b[0m\u001b[1;33m\u001b[0m\u001b[1;33m\u001b[0m\u001b[0m\n",
      "\u001b[1;32m~\\Anaconda3\\lib\\site-packages\\pandas\\core\\generic.py\u001b[0m in \u001b[0;36m_drop_axis\u001b[1;34m(self, labels, axis, level, errors)\u001b[0m\n\u001b[0;32m   3944\u001b[0m                 \u001b[0mnew_axis\u001b[0m \u001b[1;33m=\u001b[0m \u001b[0maxis\u001b[0m\u001b[1;33m.\u001b[0m\u001b[0mdrop\u001b[0m\u001b[1;33m(\u001b[0m\u001b[0mlabels\u001b[0m\u001b[1;33m,\u001b[0m \u001b[0mlevel\u001b[0m\u001b[1;33m=\u001b[0m\u001b[0mlevel\u001b[0m\u001b[1;33m,\u001b[0m \u001b[0merrors\u001b[0m\u001b[1;33m=\u001b[0m\u001b[0merrors\u001b[0m\u001b[1;33m)\u001b[0m\u001b[1;33m\u001b[0m\u001b[1;33m\u001b[0m\u001b[0m\n\u001b[0;32m   3945\u001b[0m             \u001b[1;32melse\u001b[0m\u001b[1;33m:\u001b[0m\u001b[1;33m\u001b[0m\u001b[1;33m\u001b[0m\u001b[0m\n\u001b[1;32m-> 3946\u001b[1;33m                 \u001b[0mnew_axis\u001b[0m \u001b[1;33m=\u001b[0m \u001b[0maxis\u001b[0m\u001b[1;33m.\u001b[0m\u001b[0mdrop\u001b[0m\u001b[1;33m(\u001b[0m\u001b[0mlabels\u001b[0m\u001b[1;33m,\u001b[0m \u001b[0merrors\u001b[0m\u001b[1;33m=\u001b[0m\u001b[0merrors\u001b[0m\u001b[1;33m)\u001b[0m\u001b[1;33m\u001b[0m\u001b[1;33m\u001b[0m\u001b[0m\n\u001b[0m\u001b[0;32m   3947\u001b[0m             \u001b[0mresult\u001b[0m \u001b[1;33m=\u001b[0m \u001b[0mself\u001b[0m\u001b[1;33m.\u001b[0m\u001b[0mreindex\u001b[0m\u001b[1;33m(\u001b[0m\u001b[1;33m**\u001b[0m\u001b[1;33m{\u001b[0m\u001b[0maxis_name\u001b[0m\u001b[1;33m:\u001b[0m \u001b[0mnew_axis\u001b[0m\u001b[1;33m}\u001b[0m\u001b[1;33m)\u001b[0m\u001b[1;33m\u001b[0m\u001b[1;33m\u001b[0m\u001b[0m\n\u001b[0;32m   3948\u001b[0m \u001b[1;33m\u001b[0m\u001b[0m\n",
      "\u001b[1;32m~\\Anaconda3\\lib\\site-packages\\pandas\\core\\indexes\\base.py\u001b[0m in \u001b[0;36mdrop\u001b[1;34m(self, labels, errors)\u001b[0m\n\u001b[0;32m   5338\u001b[0m         \u001b[1;32mif\u001b[0m \u001b[0mmask\u001b[0m\u001b[1;33m.\u001b[0m\u001b[0many\u001b[0m\u001b[1;33m(\u001b[0m\u001b[1;33m)\u001b[0m\u001b[1;33m:\u001b[0m\u001b[1;33m\u001b[0m\u001b[1;33m\u001b[0m\u001b[0m\n\u001b[0;32m   5339\u001b[0m             \u001b[1;32mif\u001b[0m \u001b[0merrors\u001b[0m \u001b[1;33m!=\u001b[0m \u001b[1;34m\"ignore\"\u001b[0m\u001b[1;33m:\u001b[0m\u001b[1;33m\u001b[0m\u001b[1;33m\u001b[0m\u001b[0m\n\u001b[1;32m-> 5340\u001b[1;33m                 \u001b[1;32mraise\u001b[0m \u001b[0mKeyError\u001b[0m\u001b[1;33m(\u001b[0m\u001b[1;34m\"{} not found in axis\"\u001b[0m\u001b[1;33m.\u001b[0m\u001b[0mformat\u001b[0m\u001b[1;33m(\u001b[0m\u001b[0mlabels\u001b[0m\u001b[1;33m[\u001b[0m\u001b[0mmask\u001b[0m\u001b[1;33m]\u001b[0m\u001b[1;33m)\u001b[0m\u001b[1;33m)\u001b[0m\u001b[1;33m\u001b[0m\u001b[1;33m\u001b[0m\u001b[0m\n\u001b[0m\u001b[0;32m   5341\u001b[0m             \u001b[0mindexer\u001b[0m \u001b[1;33m=\u001b[0m \u001b[0mindexer\u001b[0m\u001b[1;33m[\u001b[0m\u001b[1;33m~\u001b[0m\u001b[0mmask\u001b[0m\u001b[1;33m]\u001b[0m\u001b[1;33m\u001b[0m\u001b[1;33m\u001b[0m\u001b[0m\n\u001b[0;32m   5342\u001b[0m         \u001b[1;32mreturn\u001b[0m \u001b[0mself\u001b[0m\u001b[1;33m.\u001b[0m\u001b[0mdelete\u001b[0m\u001b[1;33m(\u001b[0m\u001b[0mindexer\u001b[0m\u001b[1;33m)\u001b[0m\u001b[1;33m\u001b[0m\u001b[1;33m\u001b[0m\u001b[0m\n",
      "\u001b[1;31mKeyError\u001b[0m: \"['Gender'] not found in axis\""
     ]
    }
   ],
   "source": [
    "df = df.drop('Gender',axis=1)"
   ]
  },
  {
   "cell_type": "code",
   "execution_count": 30,
   "metadata": {},
   "outputs": [],
   "source": [
    "df = df.drop('Net Sales',axis=1)"
   ]
  },
  {
   "cell_type": "code",
   "execution_count": 40,
   "metadata": {
    "scrolled": true
   },
   "outputs": [
    {
     "name": "stdout",
     "output_type": "stream",
     "text": [
      "SINGAPORE                    13177\n",
      "MALAYSIA                      5877\n",
      "THAILAND                      5856\n",
      "CHINA                         4767\n",
      "Others                        4007\n",
      "AUSTRALIA                     3579\n",
      "INDONESIA                     3441\n",
      "UNITED STATES                 2486\n",
      "PHILIPPINES                   2476\n",
      "HONG KONG                     2404\n",
      "INDIA                         2236\n",
      "JAPAN                         2034\n",
      "VIET NAM                      1665\n",
      "KOREA, REPUBLIC OF            1465\n",
      "UNITED KINGDOM                1271\n",
      "TAIWAN, PROVINCE OF CHINA     1081\n",
      "MYANMAR                        805\n",
      "BRUNEI DARUSSALAM              778\n",
      "NEW ZEALAND                    525\n",
      "CANADA                         510\n",
      "CAMBODIA                       492\n",
      "FRANCE                         466\n",
      "GERMANY                        446\n",
      "ITALY                          436\n",
      "NETHERLANDS                    368\n",
      "Name: Destination, dtype: int64\n"
     ]
    }
   ],
   "source": [
    "dest=df['Destination'].value_counts()\n",
    "dest=dict(dest[:25])\n",
    "dest=dest.keys()\n",
    "df.loc[~df.Destination.isin(dest), 'Destination'] = 'Others'\n",
    "dest=df['Destination'].value_counts()\n",
    "print(dest)"
   ]
  },
  {
   "cell_type": "code",
   "execution_count": 41,
   "metadata": {},
   "outputs": [
    {
     "data": {
      "text/plain": [
       "count         62648\n",
       "unique           25\n",
       "top       SINGAPORE\n",
       "freq          13177\n",
       "Name: Destination, dtype: object"
      ]
     },
     "execution_count": 41,
     "metadata": {},
     "output_type": "execute_result"
    }
   ],
   "source": [
    "df.Destination.describe()"
   ]
  },
  {
   "cell_type": "code",
   "execution_count": 42,
   "metadata": {},
   "outputs": [
    {
     "name": "stdout",
     "output_type": "stream",
     "text": [
      "<class 'pandas.core.frame.DataFrame'>\n",
      "Int64Index: 62648 entries, 21 to 63325\n",
      "Data columns (total 10 columns):\n",
      "Agency                  62648 non-null object\n",
      "Agency Type             62648 non-null object\n",
      "Distribution Channel    62648 non-null object\n",
      "Product Name            62648 non-null object\n",
      "Claim                   62648 non-null int64\n",
      "Duration                62648 non-null float64\n",
      "Destination             62648 non-null object\n",
      "Net Sales               62648 non-null float64\n",
      "Commision (in value)    62648 non-null float64\n",
      "Age                     62648 non-null int64\n",
      "dtypes: float64(3), int64(2), object(5)\n",
      "memory usage: 5.3+ MB\n"
     ]
    }
   ],
   "source": [
    "df.info()"
   ]
  },
  {
   "cell_type": "code",
   "execution_count": 43,
   "metadata": {},
   "outputs": [
    {
     "name": "stdout",
     "output_type": "stream",
     "text": [
      "    Claim  Duration  Net Sales  Commision (in value)  Age  Agency_ADM  \\\n",
      "21      0      12.0      46.15                 11.54   44           0   \n",
      "22      0       7.0      17.55                  4.39   25           0   \n",
      "23      1      12.0      94.00                 23.50   34           0   \n",
      "24      0     190.0     294.75                 73.69   26           0   \n",
      "25      0     364.0     389.00                 97.25   30           0   \n",
      "\n",
      "    Agency_ART  Agency_C2B  Agency_CBH  Agency_CCR  ...  \\\n",
      "21           0           1           0           0  ...   \n",
      "22           0           1           0           0  ...   \n",
      "23           0           1           0           0  ...   \n",
      "24           0           1           0           0  ...   \n",
      "25           0           1           0           0  ...   \n",
      "\n",
      "    Destination_NETHERLANDS  Destination_NEW ZEALAND  Destination_Others  \\\n",
      "21                        0                        0                   0   \n",
      "22                        0                        0                   0   \n",
      "23                        0                        0                   0   \n",
      "24                        0                        0                   0   \n",
      "25                        0                        0                   0   \n",
      "\n",
      "    Destination_PHILIPPINES  Destination_SINGAPORE  \\\n",
      "21                        0                      1   \n",
      "22                        0                      1   \n",
      "23                        0                      1   \n",
      "24                        0                      1   \n",
      "25                        0                      1   \n",
      "\n",
      "    Destination_TAIWAN, PROVINCE OF CHINA  Destination_THAILAND  \\\n",
      "21                                      0                     0   \n",
      "22                                      0                     0   \n",
      "23                                      0                     0   \n",
      "24                                      0                     0   \n",
      "25                                      0                     0   \n",
      "\n",
      "    Destination_UNITED KINGDOM  Destination_UNITED STATES  \\\n",
      "21                           0                          0   \n",
      "22                           0                          0   \n",
      "23                           0                          0   \n",
      "24                           0                          0   \n",
      "25                           0                          0   \n",
      "\n",
      "    Destination_VIET NAM  \n",
      "21                     0  \n",
      "22                     0  \n",
      "23                     0  \n",
      "24                     0  \n",
      "25                     0  \n",
      "\n",
      "[5 rows x 76 columns]\n"
     ]
    }
   ],
   "source": [
    "df_onehot = df.copy()\n",
    "df_onehot = pd.get_dummies(df_onehot, columns=['Agency','Agency Type','Distribution Channel','Product Name','Destination'])\n",
    "print(df_onehot.head())"
   ]
  },
  {
   "cell_type": "code",
   "execution_count": 44,
   "metadata": {
    "scrolled": true
   },
   "outputs": [
    {
     "data": {
      "text/html": [
       "<div>\n",
       "<style scoped>\n",
       "    .dataframe tbody tr th:only-of-type {\n",
       "        vertical-align: middle;\n",
       "    }\n",
       "\n",
       "    .dataframe tbody tr th {\n",
       "        vertical-align: top;\n",
       "    }\n",
       "\n",
       "    .dataframe thead th {\n",
       "        text-align: right;\n",
       "    }\n",
       "</style>\n",
       "<table border=\"1\" class=\"dataframe\">\n",
       "  <thead>\n",
       "    <tr style=\"text-align: right;\">\n",
       "      <th></th>\n",
       "      <th>Claim</th>\n",
       "      <th>Duration</th>\n",
       "      <th>Net Sales</th>\n",
       "      <th>Commision (in value)</th>\n",
       "      <th>Age</th>\n",
       "      <th>Agency_ADM</th>\n",
       "      <th>Agency_ART</th>\n",
       "      <th>Agency_C2B</th>\n",
       "      <th>Agency_CBH</th>\n",
       "      <th>Agency_CCR</th>\n",
       "      <th>...</th>\n",
       "      <th>Destination_NETHERLANDS</th>\n",
       "      <th>Destination_NEW ZEALAND</th>\n",
       "      <th>Destination_Others</th>\n",
       "      <th>Destination_PHILIPPINES</th>\n",
       "      <th>Destination_SINGAPORE</th>\n",
       "      <th>Destination_TAIWAN, PROVINCE OF CHINA</th>\n",
       "      <th>Destination_THAILAND</th>\n",
       "      <th>Destination_UNITED KINGDOM</th>\n",
       "      <th>Destination_UNITED STATES</th>\n",
       "      <th>Destination_VIET NAM</th>\n",
       "    </tr>\n",
       "  </thead>\n",
       "  <tbody>\n",
       "    <tr>\n",
       "      <td>21</td>\n",
       "      <td>0</td>\n",
       "      <td>12.0</td>\n",
       "      <td>46.15</td>\n",
       "      <td>11.54</td>\n",
       "      <td>44</td>\n",
       "      <td>0</td>\n",
       "      <td>0</td>\n",
       "      <td>1</td>\n",
       "      <td>0</td>\n",
       "      <td>0</td>\n",
       "      <td>...</td>\n",
       "      <td>0</td>\n",
       "      <td>0</td>\n",
       "      <td>0</td>\n",
       "      <td>0</td>\n",
       "      <td>1</td>\n",
       "      <td>0</td>\n",
       "      <td>0</td>\n",
       "      <td>0</td>\n",
       "      <td>0</td>\n",
       "      <td>0</td>\n",
       "    </tr>\n",
       "    <tr>\n",
       "      <td>22</td>\n",
       "      <td>0</td>\n",
       "      <td>7.0</td>\n",
       "      <td>17.55</td>\n",
       "      <td>4.39</td>\n",
       "      <td>25</td>\n",
       "      <td>0</td>\n",
       "      <td>0</td>\n",
       "      <td>1</td>\n",
       "      <td>0</td>\n",
       "      <td>0</td>\n",
       "      <td>...</td>\n",
       "      <td>0</td>\n",
       "      <td>0</td>\n",
       "      <td>0</td>\n",
       "      <td>0</td>\n",
       "      <td>1</td>\n",
       "      <td>0</td>\n",
       "      <td>0</td>\n",
       "      <td>0</td>\n",
       "      <td>0</td>\n",
       "      <td>0</td>\n",
       "    </tr>\n",
       "    <tr>\n",
       "      <td>23</td>\n",
       "      <td>1</td>\n",
       "      <td>12.0</td>\n",
       "      <td>94.00</td>\n",
       "      <td>23.50</td>\n",
       "      <td>34</td>\n",
       "      <td>0</td>\n",
       "      <td>0</td>\n",
       "      <td>1</td>\n",
       "      <td>0</td>\n",
       "      <td>0</td>\n",
       "      <td>...</td>\n",
       "      <td>0</td>\n",
       "      <td>0</td>\n",
       "      <td>0</td>\n",
       "      <td>0</td>\n",
       "      <td>1</td>\n",
       "      <td>0</td>\n",
       "      <td>0</td>\n",
       "      <td>0</td>\n",
       "      <td>0</td>\n",
       "      <td>0</td>\n",
       "    </tr>\n",
       "    <tr>\n",
       "      <td>24</td>\n",
       "      <td>0</td>\n",
       "      <td>190.0</td>\n",
       "      <td>294.75</td>\n",
       "      <td>73.69</td>\n",
       "      <td>26</td>\n",
       "      <td>0</td>\n",
       "      <td>0</td>\n",
       "      <td>1</td>\n",
       "      <td>0</td>\n",
       "      <td>0</td>\n",
       "      <td>...</td>\n",
       "      <td>0</td>\n",
       "      <td>0</td>\n",
       "      <td>0</td>\n",
       "      <td>0</td>\n",
       "      <td>1</td>\n",
       "      <td>0</td>\n",
       "      <td>0</td>\n",
       "      <td>0</td>\n",
       "      <td>0</td>\n",
       "      <td>0</td>\n",
       "    </tr>\n",
       "    <tr>\n",
       "      <td>25</td>\n",
       "      <td>0</td>\n",
       "      <td>364.0</td>\n",
       "      <td>389.00</td>\n",
       "      <td>97.25</td>\n",
       "      <td>30</td>\n",
       "      <td>0</td>\n",
       "      <td>0</td>\n",
       "      <td>1</td>\n",
       "      <td>0</td>\n",
       "      <td>0</td>\n",
       "      <td>...</td>\n",
       "      <td>0</td>\n",
       "      <td>0</td>\n",
       "      <td>0</td>\n",
       "      <td>0</td>\n",
       "      <td>1</td>\n",
       "      <td>0</td>\n",
       "      <td>0</td>\n",
       "      <td>0</td>\n",
       "      <td>0</td>\n",
       "      <td>0</td>\n",
       "    </tr>\n",
       "  </tbody>\n",
       "</table>\n",
       "<p>5 rows × 76 columns</p>\n",
       "</div>"
      ],
      "text/plain": [
       "    Claim  Duration  Net Sales  Commision (in value)  Age  Agency_ADM  \\\n",
       "21      0      12.0      46.15                 11.54   44           0   \n",
       "22      0       7.0      17.55                  4.39   25           0   \n",
       "23      1      12.0      94.00                 23.50   34           0   \n",
       "24      0     190.0     294.75                 73.69   26           0   \n",
       "25      0     364.0     389.00                 97.25   30           0   \n",
       "\n",
       "    Agency_ART  Agency_C2B  Agency_CBH  Agency_CCR  ...  \\\n",
       "21           0           1           0           0  ...   \n",
       "22           0           1           0           0  ...   \n",
       "23           0           1           0           0  ...   \n",
       "24           0           1           0           0  ...   \n",
       "25           0           1           0           0  ...   \n",
       "\n",
       "    Destination_NETHERLANDS  Destination_NEW ZEALAND  Destination_Others  \\\n",
       "21                        0                        0                   0   \n",
       "22                        0                        0                   0   \n",
       "23                        0                        0                   0   \n",
       "24                        0                        0                   0   \n",
       "25                        0                        0                   0   \n",
       "\n",
       "    Destination_PHILIPPINES  Destination_SINGAPORE  \\\n",
       "21                        0                      1   \n",
       "22                        0                      1   \n",
       "23                        0                      1   \n",
       "24                        0                      1   \n",
       "25                        0                      1   \n",
       "\n",
       "    Destination_TAIWAN, PROVINCE OF CHINA  Destination_THAILAND  \\\n",
       "21                                      0                     0   \n",
       "22                                      0                     0   \n",
       "23                                      0                     0   \n",
       "24                                      0                     0   \n",
       "25                                      0                     0   \n",
       "\n",
       "    Destination_UNITED KINGDOM  Destination_UNITED STATES  \\\n",
       "21                           0                          0   \n",
       "22                           0                          0   \n",
       "23                           0                          0   \n",
       "24                           0                          0   \n",
       "25                           0                          0   \n",
       "\n",
       "    Destination_VIET NAM  \n",
       "21                     0  \n",
       "22                     0  \n",
       "23                     0  \n",
       "24                     0  \n",
       "25                     0  \n",
       "\n",
       "[5 rows x 76 columns]"
      ]
     },
     "execution_count": 44,
     "metadata": {},
     "output_type": "execute_result"
    }
   ],
   "source": [
    "df_onehot.head()"
   ]
  },
  {
   "cell_type": "code",
   "execution_count": 45,
   "metadata": {},
   "outputs": [
    {
     "name": "stdout",
     "output_type": "stream",
     "text": [
      "Claimed: 924\n",
      "Not Claimed : 61724\n"
     ]
    }
   ],
   "source": [
    "print(\"Claimed:\",df[df[\"Claim\"] == 1][\"Claim\"].count())\n",
    "print(\"Not Claimed :\",df[df[\"Claim\"] == 0][\"Claim\"].count())"
   ]
  },
  {
   "cell_type": "code",
   "execution_count": 46,
   "metadata": {},
   "outputs": [
    {
     "data": {
      "text/html": [
       "<div>\n",
       "<style scoped>\n",
       "    .dataframe tbody tr th:only-of-type {\n",
       "        vertical-align: middle;\n",
       "    }\n",
       "\n",
       "    .dataframe tbody tr th {\n",
       "        vertical-align: top;\n",
       "    }\n",
       "\n",
       "    .dataframe thead th {\n",
       "        text-align: right;\n",
       "    }\n",
       "</style>\n",
       "<table border=\"1\" class=\"dataframe\">\n",
       "  <thead>\n",
       "    <tr style=\"text-align: right;\">\n",
       "      <th></th>\n",
       "      <th>Duration</th>\n",
       "      <th>Net Sales</th>\n",
       "      <th>Commision (in value)</th>\n",
       "      <th>Age</th>\n",
       "      <th>Agency_ADM</th>\n",
       "      <th>Agency_ART</th>\n",
       "      <th>Agency_C2B</th>\n",
       "      <th>Agency_CBH</th>\n",
       "      <th>Agency_CCR</th>\n",
       "      <th>Agency_CSR</th>\n",
       "      <th>...</th>\n",
       "      <th>Destination_NETHERLANDS</th>\n",
       "      <th>Destination_NEW ZEALAND</th>\n",
       "      <th>Destination_Others</th>\n",
       "      <th>Destination_PHILIPPINES</th>\n",
       "      <th>Destination_SINGAPORE</th>\n",
       "      <th>Destination_TAIWAN, PROVINCE OF CHINA</th>\n",
       "      <th>Destination_THAILAND</th>\n",
       "      <th>Destination_UNITED KINGDOM</th>\n",
       "      <th>Destination_UNITED STATES</th>\n",
       "      <th>Destination_VIET NAM</th>\n",
       "    </tr>\n",
       "  </thead>\n",
       "  <tbody>\n",
       "    <tr>\n",
       "      <td>21</td>\n",
       "      <td>12.0</td>\n",
       "      <td>46.15</td>\n",
       "      <td>11.54</td>\n",
       "      <td>44</td>\n",
       "      <td>0</td>\n",
       "      <td>0</td>\n",
       "      <td>1</td>\n",
       "      <td>0</td>\n",
       "      <td>0</td>\n",
       "      <td>0</td>\n",
       "      <td>...</td>\n",
       "      <td>0</td>\n",
       "      <td>0</td>\n",
       "      <td>0</td>\n",
       "      <td>0</td>\n",
       "      <td>1</td>\n",
       "      <td>0</td>\n",
       "      <td>0</td>\n",
       "      <td>0</td>\n",
       "      <td>0</td>\n",
       "      <td>0</td>\n",
       "    </tr>\n",
       "    <tr>\n",
       "      <td>22</td>\n",
       "      <td>7.0</td>\n",
       "      <td>17.55</td>\n",
       "      <td>4.39</td>\n",
       "      <td>25</td>\n",
       "      <td>0</td>\n",
       "      <td>0</td>\n",
       "      <td>1</td>\n",
       "      <td>0</td>\n",
       "      <td>0</td>\n",
       "      <td>0</td>\n",
       "      <td>...</td>\n",
       "      <td>0</td>\n",
       "      <td>0</td>\n",
       "      <td>0</td>\n",
       "      <td>0</td>\n",
       "      <td>1</td>\n",
       "      <td>0</td>\n",
       "      <td>0</td>\n",
       "      <td>0</td>\n",
       "      <td>0</td>\n",
       "      <td>0</td>\n",
       "    </tr>\n",
       "    <tr>\n",
       "      <td>23</td>\n",
       "      <td>12.0</td>\n",
       "      <td>94.00</td>\n",
       "      <td>23.50</td>\n",
       "      <td>34</td>\n",
       "      <td>0</td>\n",
       "      <td>0</td>\n",
       "      <td>1</td>\n",
       "      <td>0</td>\n",
       "      <td>0</td>\n",
       "      <td>0</td>\n",
       "      <td>...</td>\n",
       "      <td>0</td>\n",
       "      <td>0</td>\n",
       "      <td>0</td>\n",
       "      <td>0</td>\n",
       "      <td>1</td>\n",
       "      <td>0</td>\n",
       "      <td>0</td>\n",
       "      <td>0</td>\n",
       "      <td>0</td>\n",
       "      <td>0</td>\n",
       "    </tr>\n",
       "    <tr>\n",
       "      <td>24</td>\n",
       "      <td>190.0</td>\n",
       "      <td>294.75</td>\n",
       "      <td>73.69</td>\n",
       "      <td>26</td>\n",
       "      <td>0</td>\n",
       "      <td>0</td>\n",
       "      <td>1</td>\n",
       "      <td>0</td>\n",
       "      <td>0</td>\n",
       "      <td>0</td>\n",
       "      <td>...</td>\n",
       "      <td>0</td>\n",
       "      <td>0</td>\n",
       "      <td>0</td>\n",
       "      <td>0</td>\n",
       "      <td>1</td>\n",
       "      <td>0</td>\n",
       "      <td>0</td>\n",
       "      <td>0</td>\n",
       "      <td>0</td>\n",
       "      <td>0</td>\n",
       "    </tr>\n",
       "    <tr>\n",
       "      <td>25</td>\n",
       "      <td>364.0</td>\n",
       "      <td>389.00</td>\n",
       "      <td>97.25</td>\n",
       "      <td>30</td>\n",
       "      <td>0</td>\n",
       "      <td>0</td>\n",
       "      <td>1</td>\n",
       "      <td>0</td>\n",
       "      <td>0</td>\n",
       "      <td>0</td>\n",
       "      <td>...</td>\n",
       "      <td>0</td>\n",
       "      <td>0</td>\n",
       "      <td>0</td>\n",
       "      <td>0</td>\n",
       "      <td>1</td>\n",
       "      <td>0</td>\n",
       "      <td>0</td>\n",
       "      <td>0</td>\n",
       "      <td>0</td>\n",
       "      <td>0</td>\n",
       "    </tr>\n",
       "  </tbody>\n",
       "</table>\n",
       "<p>5 rows × 75 columns</p>\n",
       "</div>"
      ],
      "text/plain": [
       "    Duration  Net Sales  Commision (in value)  Age  Agency_ADM  Agency_ART  \\\n",
       "21      12.0      46.15                 11.54   44           0           0   \n",
       "22       7.0      17.55                  4.39   25           0           0   \n",
       "23      12.0      94.00                 23.50   34           0           0   \n",
       "24     190.0     294.75                 73.69   26           0           0   \n",
       "25     364.0     389.00                 97.25   30           0           0   \n",
       "\n",
       "    Agency_C2B  Agency_CBH  Agency_CCR  Agency_CSR  ...  \\\n",
       "21           1           0           0           0  ...   \n",
       "22           1           0           0           0  ...   \n",
       "23           1           0           0           0  ...   \n",
       "24           1           0           0           0  ...   \n",
       "25           1           0           0           0  ...   \n",
       "\n",
       "    Destination_NETHERLANDS  Destination_NEW ZEALAND  Destination_Others  \\\n",
       "21                        0                        0                   0   \n",
       "22                        0                        0                   0   \n",
       "23                        0                        0                   0   \n",
       "24                        0                        0                   0   \n",
       "25                        0                        0                   0   \n",
       "\n",
       "    Destination_PHILIPPINES  Destination_SINGAPORE  \\\n",
       "21                        0                      1   \n",
       "22                        0                      1   \n",
       "23                        0                      1   \n",
       "24                        0                      1   \n",
       "25                        0                      1   \n",
       "\n",
       "    Destination_TAIWAN, PROVINCE OF CHINA  Destination_THAILAND  \\\n",
       "21                                      0                     0   \n",
       "22                                      0                     0   \n",
       "23                                      0                     0   \n",
       "24                                      0                     0   \n",
       "25                                      0                     0   \n",
       "\n",
       "    Destination_UNITED KINGDOM  Destination_UNITED STATES  \\\n",
       "21                           0                          0   \n",
       "22                           0                          0   \n",
       "23                           0                          0   \n",
       "24                           0                          0   \n",
       "25                           0                          0   \n",
       "\n",
       "    Destination_VIET NAM  \n",
       "21                     0  \n",
       "22                     0  \n",
       "23                     0  \n",
       "24                     0  \n",
       "25                     0  \n",
       "\n",
       "[5 rows x 75 columns]"
      ]
     },
     "execution_count": 46,
     "metadata": {},
     "output_type": "execute_result"
    }
   ],
   "source": [
    "X = df_onehot.drop('Claim',axis=1)\n",
    "X.head()"
   ]
  },
  {
   "cell_type": "code",
   "execution_count": 47,
   "metadata": {
    "scrolled": true
   },
   "outputs": [
    {
     "data": {
      "text/plain": [
       "21    0\n",
       "22    0\n",
       "23    1\n",
       "24    0\n",
       "25    0\n",
       "Name: Claim, dtype: int64"
      ]
     },
     "execution_count": 47,
     "metadata": {},
     "output_type": "execute_result"
    }
   ],
   "source": [
    "y = df_onehot.Claim\n",
    "y.head()"
   ]
  },
  {
   "cell_type": "code",
   "execution_count": 48,
   "metadata": {},
   "outputs": [],
   "source": [
    "from sklearn.model_selection import KFold\n",
    "from sklearn.metrics import classification_report,confusion_matrix,accuracy_score\n",
    "from sklearn.model_selection import GridSearchCV"
   ]
  },
  {
   "cell_type": "code",
   "execution_count": 49,
   "metadata": {},
   "outputs": [],
   "source": [
    "log_class = LogisticRegression()\n",
    "grid={'C':10.0**np.arange(-2,3),'penalty':['l1','l2']}\n",
    "cv=KFold(n_splits=5,random_state=None,shuffle=False)"
   ]
  },
  {
   "cell_type": "code",
   "execution_count": 50,
   "metadata": {},
   "outputs": [],
   "source": [
    "X_train,X_test,y_train,y_test=train_test_split(X,y,train_size=0.7)"
   ]
  },
  {
   "cell_type": "code",
   "execution_count": 51,
   "metadata": {},
   "outputs": [
    {
     "data": {
      "text/plain": [
       "(43853, 75)"
      ]
     },
     "execution_count": 51,
     "metadata": {},
     "output_type": "execute_result"
    }
   ],
   "source": [
    "X_train.shape"
   ]
  },
  {
   "cell_type": "code",
   "execution_count": 52,
   "metadata": {},
   "outputs": [
    {
     "data": {
      "text/plain": [
       "(43853,)"
      ]
     },
     "execution_count": 52,
     "metadata": {},
     "output_type": "execute_result"
    }
   ],
   "source": [
    "y_train.shape"
   ]
  },
  {
   "cell_type": "code",
   "execution_count": 53,
   "metadata": {},
   "outputs": [
    {
     "data": {
      "text/plain": [
       "(18795, 75)"
      ]
     },
     "execution_count": 53,
     "metadata": {},
     "output_type": "execute_result"
    }
   ],
   "source": [
    "X_test.shape"
   ]
  },
  {
   "cell_type": "code",
   "execution_count": 54,
   "metadata": {},
   "outputs": [
    {
     "data": {
      "text/plain": [
       "(18795,)"
      ]
     },
     "execution_count": 54,
     "metadata": {},
     "output_type": "execute_result"
    }
   ],
   "source": [
    "y_test.shape"
   ]
  },
  {
   "cell_type": "code",
   "execution_count": 55,
   "metadata": {},
   "outputs": [
    {
     "name": "stderr",
     "output_type": "stream",
     "text": [
      "C:\\Users\\hp\\Anaconda3\\lib\\site-packages\\sklearn\\model_selection\\_search.py:921: UserWarning: One or more of the test scores are non-finite: [       nan 0.4961394         nan 0.49616835        nan 0.49617413\n",
      "        nan 0.49616835        nan 0.49617413]\n",
      "  category=UserWarning\n",
      "C:\\Users\\hp\\Anaconda3\\lib\\site-packages\\sklearn\\linear_model\\_logistic.py:765: ConvergenceWarning: lbfgs failed to converge (status=1):\n",
      "STOP: TOTAL NO. of ITERATIONS REACHED LIMIT.\n",
      "\n",
      "Increase the number of iterations (max_iter) or scale the data as shown in:\n",
      "    https://scikit-learn.org/stable/modules/preprocessing.html\n",
      "Please also refer to the documentation for alternative solver options:\n",
      "    https://scikit-learn.org/stable/modules/linear_model.html#logistic-regression\n",
      "  extra_warning_msg=_LOGISTIC_SOLVER_CONVERGENCE_MSG)\n"
     ]
    },
    {
     "data": {
      "text/plain": [
       "GridSearchCV(cv=KFold(n_splits=5, random_state=None, shuffle=False),\n",
       "             estimator=LogisticRegression(), n_jobs=-1,\n",
       "             param_grid={'C': array([1.e-02, 1.e-01, 1.e+00, 1.e+01, 1.e+02]),\n",
       "                         'penalty': ['l1', 'l2']},\n",
       "             scoring='f1_macro')"
      ]
     },
     "execution_count": 55,
     "metadata": {},
     "output_type": "execute_result"
    }
   ],
   "source": [
    "clf=GridSearchCV(log_class,grid,cv=cv,n_jobs=-1,scoring='f1_macro')\n",
    "clf.fit(X_train,y_train)"
   ]
  },
  {
   "cell_type": "code",
   "execution_count": 56,
   "metadata": {
    "scrolled": true
   },
   "outputs": [
    {
     "name": "stdout",
     "output_type": "stream",
     "text": [
      "[[18536     1]\n",
      " [  258     0]]\n",
      "0.986219739292365\n",
      "              precision    recall  f1-score   support\n",
      "\n",
      "           0       0.99      1.00      0.99     18537\n",
      "           1       0.00      0.00      0.00       258\n",
      "\n",
      "    accuracy                           0.99     18795\n",
      "   macro avg       0.49      0.50      0.50     18795\n",
      "weighted avg       0.97      0.99      0.98     18795\n",
      "\n"
     ]
    }
   ],
   "source": [
    "y_pred=clf.predict(X_test)\n",
    "print(confusion_matrix(y_test,y_pred))\n",
    "print(accuracy_score(y_test,y_pred))\n",
    "print(classification_report(y_test,y_pred))"
   ]
  },
  {
   "cell_type": "code",
   "execution_count": 57,
   "metadata": {},
   "outputs": [],
   "source": [
    "class_weight=dict({0:1,1:100})"
   ]
  },
  {
   "cell_type": "code",
   "execution_count": 58,
   "metadata": {},
   "outputs": [
    {
     "data": {
      "text/plain": [
       "RandomForestClassifier(class_weight={0: 1, 1: 100})"
      ]
     },
     "execution_count": 58,
     "metadata": {},
     "output_type": "execute_result"
    }
   ],
   "source": [
    "ran_forest = RandomForestClassifier(class_weight=class_weight)\n",
    "ran_forest.fit(X_train,y_train)"
   ]
  },
  {
   "cell_type": "code",
   "execution_count": 59,
   "metadata": {},
   "outputs": [
    {
     "name": "stdout",
     "output_type": "stream",
     "text": [
      "[[18446    91]\n",
      " [  252     6]]\n",
      "0.9817504655493482\n",
      "              precision    recall  f1-score   support\n",
      "\n",
      "           0       0.99      1.00      0.99     18537\n",
      "           1       0.06      0.02      0.03       258\n",
      "\n",
      "    accuracy                           0.98     18795\n",
      "   macro avg       0.52      0.51      0.51     18795\n",
      "weighted avg       0.97      0.98      0.98     18795\n",
      "\n"
     ]
    }
   ],
   "source": [
    "y_pred=ran_forest.predict(X_test)\n",
    "print(confusion_matrix(y_test,y_pred))\n",
    "print(accuracy_score(y_test,y_pred))\n",
    "print(classification_report(y_test,y_pred))"
   ]
  },
  {
   "cell_type": "markdown",
   "metadata": {},
   "source": [
    "Under Sampling "
   ]
  },
  {
   "cell_type": "code",
   "execution_count": 60,
   "metadata": {},
   "outputs": [
    {
     "data": {
      "text/plain": [
       "Counter({0: 43187, 1: 666})"
      ]
     },
     "execution_count": 60,
     "metadata": {},
     "output_type": "execute_result"
    }
   ],
   "source": [
    "from collections import Counter\n",
    "Counter(y_train)"
   ]
  },
  {
   "cell_type": "code",
   "execution_count": 61,
   "metadata": {},
   "outputs": [
    {
     "name": "stderr",
     "output_type": "stream",
     "text": [
      "C:\\Users\\hp\\AppData\\Roaming\\Python\\Python37\\site-packages\\imblearn\\utils\\_validation.py:591: FutureWarning: Pass sampling_strategy=0.7 as keyword args. From version 0.9 passing these as positional arguments will result in an error\n",
      "  FutureWarning,\n"
     ]
    },
    {
     "name": "stdout",
     "output_type": "stream",
     "text": [
      "The number of class before fit Counter({0: 43187, 1: 666})\n",
      "The number of class after fit Counter({0: 951, 1: 666})\n"
     ]
    }
   ],
   "source": [
    "from collections import Counter\n",
    "from imblearn.under_sampling import NearMiss\n",
    "ns=NearMiss(0.7)\n",
    "X_train_ns,y_train_ns=ns.fit_resample(X_train,y_train)\n",
    "print(\"The number of class before fit {}\".format(Counter(y_train)))\n",
    "print(\"The number of class after fit {}\".format(Counter(y_train_ns)))"
   ]
  },
  {
   "cell_type": "code",
   "execution_count": 62,
   "metadata": {},
   "outputs": [
    {
     "data": {
      "text/plain": [
       "RandomForestClassifier()"
      ]
     },
     "execution_count": 62,
     "metadata": {},
     "output_type": "execute_result"
    }
   ],
   "source": [
    "ran_forest = RandomForestClassifier()\n",
    "ran_forest.fit(X_train_ns,y_train_ns)"
   ]
  },
  {
   "cell_type": "code",
   "execution_count": 63,
   "metadata": {},
   "outputs": [
    {
     "name": "stdout",
     "output_type": "stream",
     "text": [
      "[[ 3867 14670]\n",
      " [   44   214]]\n",
      "0.21713221601489757\n",
      "              precision    recall  f1-score   support\n",
      "\n",
      "           0       0.99      0.21      0.34     18537\n",
      "           1       0.01      0.83      0.03       258\n",
      "\n",
      "    accuracy                           0.22     18795\n",
      "   macro avg       0.50      0.52      0.19     18795\n",
      "weighted avg       0.98      0.22      0.34     18795\n",
      "\n"
     ]
    }
   ],
   "source": [
    "y_pred=ran_forest.predict(X_test)\n",
    "print(confusion_matrix(y_test,y_pred))\n",
    "print(accuracy_score(y_test,y_pred))\n",
    "print(classification_report(y_test,y_pred))"
   ]
  },
  {
   "cell_type": "markdown",
   "metadata": {},
   "source": [
    "Over Sampling"
   ]
  },
  {
   "cell_type": "code",
   "execution_count": 66,
   "metadata": {},
   "outputs": [
    {
     "name": "stdout",
     "output_type": "stream",
     "text": [
      "Requirement already satisfied: imbalanced-learn in c:\\users\\hp\\appdata\\roaming\\python\\python37\\site-packages (0.8.0)\n",
      "Requirement already satisfied: joblib>=0.11 in c:\\users\\hp\\anaconda3\\lib\\site-packages (from imbalanced-learn) (0.13.2)\n",
      "Requirement already satisfied: numpy>=1.13.3 in c:\\users\\hp\\anaconda3\\lib\\site-packages (from imbalanced-learn) (1.16.5)\n",
      "Requirement already satisfied: scipy>=0.19.1 in c:\\users\\hp\\anaconda3\\lib\\site-packages (from imbalanced-learn) (1.3.1)\n",
      "Requirement already satisfied: scikit-learn>=0.24 in c:\\users\\hp\\anaconda3\\lib\\site-packages (from imbalanced-learn) (0.24.1)\n",
      "Requirement already satisfied: threadpoolctl>=2.0.0 in c:\\users\\hp\\anaconda3\\lib\\site-packages (from scikit-learn>=0.24->imbalanced-learn) (2.1.0)\n",
      "Note: you may need to restart the kernel to use updated packages.\n"
     ]
    }
   ],
   "source": [
    "pip install imbalanced-learn"
   ]
  },
  {
   "cell_type": "code",
   "execution_count": 64,
   "metadata": {},
   "outputs": [],
   "source": [
    "from imblearn.over_sampling import RandomOverSampler"
   ]
  },
  {
   "cell_type": "code",
   "execution_count": 68,
   "metadata": {
    "scrolled": true
   },
   "outputs": [
    {
     "name": "stderr",
     "output_type": "stream",
     "text": [
      "C:\\Users\\hp\\AppData\\Roaming\\Python\\Python37\\site-packages\\imblearn\\utils\\_validation.py:591: FutureWarning: Pass sampling_strategy=0.75 as keyword args. From version 0.9 passing these as positional arguments will result in an error\n",
      "  FutureWarning,\n"
     ]
    },
    {
     "name": "stdout",
     "output_type": "stream",
     "text": [
      "The number of class before fit Counter({0: 43187, 1: 666})\n",
      "The number of class after fit Counter({0: 43187, 1: 32390})\n"
     ]
    }
   ],
   "source": [
    "oss=RandomOverSampler(0.75)\n",
    "X_train_ns,y_train_ns=oss.fit_resample(X_train,y_train)\n",
    "print(\"The number of class before fit {}\".format(Counter(y_train)))\n",
    "print(\"The number of class after fit {}\".format(Counter(y_train_ns)))"
   ]
  },
  {
   "cell_type": "code",
   "execution_count": 69,
   "metadata": {},
   "outputs": [
    {
     "data": {
      "text/plain": [
       "RandomForestClassifier()"
      ]
     },
     "execution_count": 69,
     "metadata": {},
     "output_type": "execute_result"
    }
   ],
   "source": [
    "ran_forest = RandomForestClassifier()\n",
    "ran_forest.fit(X_train_ns,y_train_ns)"
   ]
  },
  {
   "cell_type": "code",
   "execution_count": 70,
   "metadata": {},
   "outputs": [
    {
     "name": "stdout",
     "output_type": "stream",
     "text": [
      "[[18337   200]\n",
      " [  239    19]]\n",
      "0.9766427241287576\n",
      "              precision    recall  f1-score   support\n",
      "\n",
      "           0       0.99      0.99      0.99     18537\n",
      "           1       0.09      0.07      0.08       258\n",
      "\n",
      "    accuracy                           0.98     18795\n",
      "   macro avg       0.54      0.53      0.53     18795\n",
      "weighted avg       0.97      0.98      0.98     18795\n",
      "\n"
     ]
    }
   ],
   "source": [
    "y_pred=ran_forest.predict(X_test)\n",
    "print(confusion_matrix(y_test,y_pred))\n",
    "print(accuracy_score(y_test,y_pred))\n",
    "print(classification_report(y_test,y_pred))"
   ]
  },
  {
   "cell_type": "markdown",
   "metadata": {},
   "source": [
    "SMOTE"
   ]
  },
  {
   "cell_type": "code",
   "execution_count": 71,
   "metadata": {},
   "outputs": [],
   "source": [
    "from imblearn.combine import SMOTETomek"
   ]
  },
  {
   "cell_type": "code",
   "execution_count": 72,
   "metadata": {},
   "outputs": [
    {
     "name": "stderr",
     "output_type": "stream",
     "text": [
      "C:\\Users\\hp\\AppData\\Roaming\\Python\\Python37\\site-packages\\imblearn\\utils\\_validation.py:591: FutureWarning: Pass sampling_strategy=0.5 as keyword args. From version 0.9 passing these as positional arguments will result in an error\n",
      "  FutureWarning,\n"
     ]
    },
    {
     "name": "stdout",
     "output_type": "stream",
     "text": [
      "The number of class before fit Counter({0: 43187, 1: 666})\n",
      "The number of class after fit Counter({0: 42826, 1: 21232})\n"
     ]
    }
   ],
   "source": [
    "sm=SMOTETomek(0.5)\n",
    "X_train_ns,y_train_ns=sm.fit_resample(X_train,y_train)\n",
    "print(\"The number of class before fit {}\".format(Counter(y_train)))\n",
    "print(\"The number of class after fit {}\".format(Counter(y_train_ns)))"
   ]
  },
  {
   "cell_type": "code",
   "execution_count": 73,
   "metadata": {},
   "outputs": [
    {
     "data": {
      "text/plain": [
       "RandomForestClassifier()"
      ]
     },
     "execution_count": 73,
     "metadata": {},
     "output_type": "execute_result"
    }
   ],
   "source": [
    "ran_forest = RandomForestClassifier()\n",
    "ran_forest.fit(X_train_ns,y_train_ns)"
   ]
  },
  {
   "cell_type": "code",
   "execution_count": 74,
   "metadata": {},
   "outputs": [
    {
     "name": "stdout",
     "output_type": "stream",
     "text": [
      "[[18220   317]\n",
      " [  236    22]]\n",
      "0.9705772811918063\n",
      "              precision    recall  f1-score   support\n",
      "\n",
      "           0       0.99      0.98      0.99     18537\n",
      "           1       0.06      0.09      0.07       258\n",
      "\n",
      "    accuracy                           0.97     18795\n",
      "   macro avg       0.53      0.53      0.53     18795\n",
      "weighted avg       0.97      0.97      0.97     18795\n",
      "\n"
     ]
    }
   ],
   "source": [
    "y_pred=ran_forest.predict(X_test)\n",
    "print(confusion_matrix(y_test,y_pred))\n",
    "print(accuracy_score(y_test,y_pred))\n",
    "print(classification_report(y_test,y_pred))"
   ]
  }
 ],
 "metadata": {
  "kernelspec": {
   "display_name": "Python 3",
   "language": "python",
   "name": "python3"
  },
  "language_info": {
   "codemirror_mode": {
    "name": "ipython",
    "version": 3
   },
   "file_extension": ".py",
   "mimetype": "text/x-python",
   "name": "python",
   "nbconvert_exporter": "python",
   "pygments_lexer": "ipython3",
   "version": "3.7.4"
  }
 },
 "nbformat": 4,
 "nbformat_minor": 2
}
